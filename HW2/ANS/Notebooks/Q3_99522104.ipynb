{
 "cells": [
  {
   "cell_type": "markdown",
   "metadata": {
    "id": "tArNE7L5rflj"
   },
   "source": [
    "1.Submit a Google Colab notebook containing your completed code and experimentation results.\n",
    "\n",
    "2.Include comments and explanations in your code to help understand the implemented logic.\n",
    "\n",
    "**Additional Notes:**\n",
    "*   Ensure that the notebook runs successfully in Google Colab.\n",
    "*   Document any issues encountered during experimentation and how you addressed them.\n",
    "\n",
    "**Grading:**\n",
    "*   Each task will be graded out of the specified points.\n",
    "*   Points will be awarded for correctness, clarity of code, thorough experimentation, and insightful analysis."
   ]
  },
  {
   "cell_type": "code",
   "execution_count": 1,
   "metadata": {
    "colab": {
     "base_uri": "https://localhost:8080/"
    },
    "id": "oCb3cVwzrfbb",
    "outputId": "c24b7865-8705-4752-e3b0-2a2ff4726eda"
   },
   "outputs": [
    {
     "name": "stdout",
     "output_type": "stream",
     "text": [
      "Mounted at /content/gdrive\n"
     ]
    }
   ],
   "source": [
    "from google.colab import drive\n",
    "drive.mount('/content/gdrive')"
   ]
  },
  {
   "cell_type": "code",
   "execution_count": 2,
   "metadata": {
    "id": "WDy9L5opdbv6"
   },
   "outputs": [],
   "source": [
    "SOURCE_DIR = '/content/gdrive/MyDrive/NLP/Q3_data.csv'"
   ]
  },
  {
   "cell_type": "code",
   "execution_count": 3,
   "metadata": {
    "id": "HtCgCrUVtU_J"
   },
   "outputs": [],
   "source": [
    "import torch\n",
    "import re\n",
    "from sklearn.preprocessing import OneHotEncoder\n",
    "import numpy as np\n",
    "import pandas as pd\n",
    "import math\n",
    "from gensim.models import Word2Vec"
   ]
  },
  {
   "cell_type": "code",
   "execution_count": 4,
   "metadata": {
    "id": "llC95dtMrfln"
   },
   "outputs": [],
   "source": [
    "def delete_hashtag_usernames(text):\n",
    "  try:\n",
    "    result = []\n",
    "    for word in text.split():\n",
    "      if word[0] not in ['@', '#']:\n",
    "        result.append(word)\n",
    "    return ' '.join(result)\n",
    "  except:\n",
    "    return ''\n",
    "\n",
    "def delete_url(text):\n",
    "  text = re.sub(r'http\\S+', '', text)\n",
    "  return text\n",
    "\n",
    "def delete_ex(text):\n",
    "  text = re.sub(r'\\u200c', '', text)\n",
    "  return text"
   ]
  },
  {
   "cell_type": "markdown",
   "metadata": {
    "id": "cz4cWWgA4xBF"
   },
   "source": [
    "# 0. Data preprocessing"
   ]
  },
  {
   "cell_type": "code",
   "execution_count": 6,
   "metadata": {
    "colab": {
     "base_uri": "https://localhost:8080/"
    },
    "id": "t0FjQ9_ZMkve",
    "outputId": "c80d6853-7f02-4100-ba96-8c88231e8e57"
   },
   "outputs": [
    {
     "name": "stdout",
     "output_type": "stream",
     "text": [
      "Collecting json-lines\n",
      "  Downloading json_lines-0.5.0-py2.py3-none-any.whl (6.8 kB)\n",
      "Requirement already satisfied: six in /usr/local/lib/python3.10/dist-packages (from json-lines) (1.16.0)\n",
      "Installing collected packages: json-lines\n",
      "Successfully installed json-lines-0.5.0\n",
      "Collecting pyarabic\n",
      "  Downloading PyArabic-0.6.15-py3-none-any.whl (126 kB)\n",
      "\u001b[2K     \u001b[90m━━━━━━━━━━━━━━━━━━━━━━━━━━━━━━━━━━━━━━━━\u001b[0m \u001b[32m126.4/126.4 kB\u001b[0m \u001b[31m2.2 MB/s\u001b[0m eta \u001b[36m0:00:00\u001b[0m\n",
      "\u001b[?25hRequirement already satisfied: six>=1.14.0 in /usr/local/lib/python3.10/dist-packages (from pyarabic) (1.16.0)\n",
      "Installing collected packages: pyarabic\n",
      "Successfully installed pyarabic-0.6.15\n"
     ]
    }
   ],
   "source": [
    "!pip install json-lines\n",
    "!pip install pyarabic"
   ]
  },
  {
   "cell_type": "code",
   "execution_count": 7,
   "metadata": {
    "id": "Uf7K92-olSfe"
   },
   "outputs": [],
   "source": [
    "import json_lines\n",
    "import pyarabic.araby as araby"
   ]
  },
  {
   "cell_type": "code",
   "execution_count": 8,
   "metadata": {
    "colab": {
     "base_uri": "https://localhost:8080/"
    },
    "id": "bG5awXKo40HS",
    "outputId": "3daafe6c-b427-4a5c-d945-5724f42c6ddb"
   },
   "outputs": [
    {
     "data": {
      "text/plain": [
       "0                  بنشین تا شود نقش فال ما نقش هم فردا شدن\n",
       "1        این گوزو رو کی گردن میگیره   دچار زوال عقل شده...\n",
       "2                                   برای ایران  برای مهسا \n",
       "3                                          مرگ بر دیکتاتور\n",
       "4                               نذاریم خونشون پایمال شه   \n",
       "                               ...                        \n",
       "19995                                     برای ایران بانو \n",
       "19996        از بس حاج خانم دراز نشده واسش عقده دراز داره😅\n",
       "19997    به افتخار از بین رفتن جمهوری اسلامی🙆‍♂️🙆‍♂️🙆‍♂...\n",
       "19998                                          پنجاه و شیش\n",
       "19999    در محیط طوفانزای ماهرانه در جنگ است ناخدای است...\n",
       "Name: Text, Length: 20000, dtype: object"
      ]
     },
     "execution_count": 8,
     "metadata": {},
     "output_type": "execute_result"
    }
   ],
   "source": [
    "# 1. extract all tweets from file and save them in memory\n",
    "# 2. remove urls, hashtags and usernames. use the prepared functions\n",
    "def preprocess(text):\n",
    "    text = delete_hashtag_usernames(text)\n",
    "    text = delete_url(text)\n",
    "    text = delete_ex(text)\n",
    "\n",
    "    # Remove Punctuations\n",
    "    punct = ':؛؟!،»«><.,;:\"\\'!?/'\n",
    "    text = text.translate(str.maketrans(punct, ' '*len(punct)))\n",
    "\n",
    "    # Remove آ and ي\n",
    "    text = text.replace('آ', 'ا')\n",
    "    text = text.replace('ي', 'ی')\n",
    "    text = text.replace('ك', 'ک')\n",
    "\n",
    "    # Remove arabic diacritics\n",
    "    text = araby.strip_diacritics(text)\n",
    "\n",
    "    # Remove numbers\n",
    "    # text = text.translate(str.maketrans('', '', '۱۲۳۴۵۶۷۸۹۰1234567890١٢٣٤٥٦٧٨٩٠'))\n",
    "\n",
    "    return text\n",
    "\n",
    "\n",
    "import pandas as pd\n",
    "\n",
    "df = pd.read_csv(SOURCE_DIR)['Text']\n",
    "df = df.map(preprocess)\n",
    "df"
   ]
  },
  {
   "cell_type": "markdown",
   "metadata": {
    "id": "HSdhgIpjrflp"
   },
   "source": [
    "# 1. Functions"
   ]
  },
  {
   "cell_type": "markdown",
   "metadata": {
    "id": "Qf6SERLcrflp"
   },
   "source": [
    "## Cosine Similarity\n",
    "\n",
    "To measure the similarity between two words, you need a way to measure the degree of similarity between two embedding vectors for the two words. Given two vectors $u$ and $v$, cosine similarity is defined as follows:\n",
    "\n",
    "$$\\text{CosineSimilarity(u, v)} = \\frac {u \\cdot v} {||u||_2 ||v||_2} = cos(\\theta) \\tag{1}$$\n",
    "\n",
    "* $u \\cdot v$ is the dot product (or inner product) of two vectors\n",
    "* $||u||_2$ is the norm (or length) of the vector $u$\n",
    "* $\\theta$ is the angle between $u$ and $v$.\n",
    "* The cosine similarity depends on the angle between $u$ and $v$.\n",
    "    * If $u$ and $v$ are very similar, their cosine similarity will be close to 1.\n",
    "    * If they are dissimilar, the cosine similarity will take a smaller value.\n",
    "\n",
    "<img src=\"images/cosine_sim.png\" style=\"width:800px;height:250px;\">\n",
    "<caption><center><font color='purple'><b>Figure 1</b>: The cosine of the angle between two vectors is a measure of their similarity.</font></center></caption>\n",
    "\n",
    "Implement the function `cosine_similarity()` to evaluate the similarity between word vectors.\n",
    "\n",
    "**Reminder**: The norm of $u$ is defined as $ ||u||_2 = \\sqrt{\\sum_{i=1}^{n} u_i^2}$"
   ]
  },
  {
   "cell_type": "code",
   "execution_count": 9,
   "metadata": {
    "id": "oyHjgcWCrflq"
   },
   "outputs": [],
   "source": [
    "def cosine_similarity(u, v):\n",
    "    \"\"\"\n",
    "    Cosine similarity reflects the degree of similarity between u and v\n",
    "\n",
    "    Arguments:\n",
    "        u -- a word vector of shape (n,)\n",
    "        v -- a word vector of shape (n,)\n",
    "\n",
    "    Returns:\n",
    "        cosine_similarity -- the cosine similarity between u and v defined by the formula above.\n",
    "    \"\"\"\n",
    "    denominator = np.linalg.norm(u) * np.linalg.norm(v)\n",
    "    numinator = np.dot(u, v)\n",
    "    return numinator/denominator"
   ]
  },
  {
   "cell_type": "markdown",
   "metadata": {
    "id": "QfkR1RJerflq"
   },
   "source": [
    "## find k nearest neighbors"
   ]
  },
  {
   "cell_type": "code",
   "execution_count": 10,
   "metadata": {
    "id": "l0PCeozgrflr"
   },
   "outputs": [],
   "source": [
    "def find_k_nearest_neighbors(word, embedding_dict, k):\n",
    "    \"\"\"\n",
    "    implement a function to return the nearest words to an specific word based on the given dictionary\n",
    "\n",
    "    Arguments:\n",
    "        word           -- a word, string\n",
    "        embedding_dict -- dictionary that maps words to their corresponding vectors\n",
    "        k              -- the number of word that should be returned\n",
    "\n",
    "    Returns:\n",
    "        a list of size k consisting of the k most similar words to the given word\n",
    "\n",
    "    Note: use the cosine_similarity function that you have implemented to calculate the similarity between words\n",
    "    \"\"\"\n",
    "    word = preprocess(word)\n",
    "\n",
    "    similarities = dict()\n",
    "    word_emb = embedding_dict[word]\n",
    "\n",
    "    for w in embedding_dict:\n",
    "        if w != word:\n",
    "            w_emb = embedding_dict[w]\n",
    "            if not np.any(w_emb):\n",
    "                continue\n",
    "            similarity = cosine_similarity(w_emb, word_emb)\n",
    "            similarities[w] = similarity\n",
    "\n",
    "    return sorted(similarities.items(), key=lambda x:x[1], reverse=True)[:k]"
   ]
  },
  {
   "cell_type": "markdown",
   "metadata": {
    "id": "Nqr5DLDYuKd-"
   },
   "source": [
    "# 2. One hot encoding"
   ]
  },
  {
   "cell_type": "code",
   "execution_count": null,
   "metadata": {
    "id": "jiaIanxI09Ig"
   },
   "outputs": [],
   "source": [
    "def find_words(texts:pd.DataFrame):\n",
    "    words = []\n",
    "    for text in texts:\n",
    "        for word in text.split():\n",
    "            words.append(word)\n",
    "    words = list(set(words))\n",
    "    return words\n",
    "\n",
    "def build_one_hot_vocabulary(words:list):\n",
    "    encoder = OneHotEncoder(handle_unknown='ignore')\n",
    "    one_hot = encoder.fit_transform(np.array(words).reshape(-1, 1)).toarray()\n",
    "\n",
    "    vocabulary = dict(zip(words, one_hot))\n",
    "    return vocabulary"
   ]
  },
  {
   "cell_type": "code",
   "execution_count": null,
   "metadata": {
    "colab": {
     "base_uri": "https://localhost:8080/"
    },
    "id": "OPqc0I0yuNlI",
    "outputId": "69a63ba7-c63c-4f65-9f55-efc0fa1f0305"
   },
   "outputs": [
    {
     "name": "stdout",
     "output_type": "stream",
     "text": [
      "One-Hot Encoding Results:\n",
      "\n",
      "\tحکمت - 0.0\n",
      "\tجسور - 0.0\n",
      "\tپلتفرمی - 0.0\n",
      "\tبزرگمه - 0.0\n",
      "\t(امام - 0.0\n",
      "\tمرج - 0.0\n",
      "\t(خودش - 0.0\n",
      "\tمامانایی - 0.0\n",
      "\tچهارده🖤 - 0.0\n",
      "\tزدنا - 0.0\n"
     ]
    }
   ],
   "source": [
    "# 1. find one hot encoding of each word\n",
    "# 2. find 10 nearest words from \"آزادی\"\n",
    "\n",
    "# Extract words and build a vocabulary\n",
    "words = find_words(df)\n",
    "vocabulary = build_one_hot_vocabulary(words)\n",
    "print('One-Hot Encoding Results:')\n",
    "print(''.join([f'\\n\\t{v[0]} - {v[1]}'for v in find_k_nearest_neighbors('آزادی', vocabulary, 10)]))"
   ]
  },
  {
   "cell_type": "markdown",
   "metadata": {
    "id": "A9tAFn4brKrB"
   },
   "source": [
    "### Describe advantages and disadvantages of one-hot encoding\n",
    "\n",
    "\n",
    "---\n",
    "\n",
    "\n",
    "#### Advantages\n",
    "\n",
    "*   Binary Representation: One-hot encoding transforms categorical variables into a binary vector representation, which is beneficial for models that require numerical input.\n",
    "*   Orthogonal Vector Space: The resulting vectors are orthogonal to each other, meaning that each category is independent and equidistant from others, which can be useful for certain types of analyses.\n",
    "*   Fast Training: Acutally this technique doesn't need any training at all and can be easily calculated by constructing a one-hot vector with size same as the vocabulary size.\n",
    "\n",
    "\n",
    "---\n",
    "\n",
    "\n",
    "#### Disadvantages\n",
    "*   Dimensionality: One-hot encoding can significantly increase the dimensionality of the dataset, as it creates a separate column for each category. This can lead to a sparse matrix and increase the computational cost.\n",
    "*   Lack of Semantic Information: One-hot vectors do not capture any semantic relationships between words since each word is represented as an independent entity with no shared features. **So using this technique we can not find any related word to any arbitrary word inside out vocabulary.**\n",
    "*   Multi-Collinearity: The addition of dummy variables for each unique category can lead to multi-collinearity, which can affect the performance of certain machine learning algorithms."
   ]
  },
  {
   "cell_type": "markdown",
   "metadata": {
    "id": "qHeSYFUKw5gw"
   },
   "source": [
    "# 3. TF-IDF"
   ]
  },
  {
   "cell_type": "code",
   "execution_count": 11,
   "metadata": {
    "id": "TFWPZqfKB7eZ"
   },
   "outputs": [],
   "source": [
    "from sklearn.feature_extraction.text import TfidfVectorizer\n",
    "\n",
    "vectorizer = TfidfVectorizer()"
   ]
  },
  {
   "cell_type": "code",
   "execution_count": 12,
   "metadata": {
    "colab": {
     "base_uri": "https://localhost:8080/"
    },
    "id": "wC-_pDjUB9Kf",
    "outputId": "b8207f4e-5e92-4e2f-ffc9-cd7fec60180b"
   },
   "outputs": [
    {
     "name": "stdout",
     "output_type": "stream",
     "text": [
      "22749\n",
      "(20000, 22749)\n"
     ]
    }
   ],
   "source": [
    "# Find TF-IDF of all words in tweets\n",
    "corpus = df.values\n",
    "X = vectorizer.fit_transform(corpus)\n",
    "print(len(vectorizer.get_feature_names_out()))\n",
    "print(X.toarray().shape) # -> first axis is corresponding vectors to each document"
   ]
  },
  {
   "cell_type": "code",
   "execution_count": 50,
   "metadata": {
    "colab": {
     "base_uri": "https://localhost:8080/",
     "height": 36
    },
    "id": "E06xw2yaE9bE",
    "outputId": "bb16172e-3218-4a95-8470-e96d29615ce1"
   },
   "outputs": [
    {
     "data": {
      "application/vnd.google.colaboratory.intrinsic+json": {
       "type": "string"
      },
      "text/plain": [
       "'بریم برای ۸۰ میلیون'"
      ]
     },
     "execution_count": 50,
     "metadata": {},
     "output_type": "execute_result"
    }
   ],
   "source": [
    "index = np.random.randint(len(corpus))\n",
    "text = corpus[index]\n",
    "text"
   ]
  },
  {
   "cell_type": "code",
   "execution_count": 56,
   "metadata": {
    "colab": {
     "base_uri": "https://localhost:8080/"
    },
    "id": "k4ZvCRjpTTN9",
    "outputId": "57b816dd-c367-4f5d-8506-6601e682909f"
   },
   "outputs": [
    {
     "name": "stderr",
     "output_type": "stream",
     "text": [
      "<ipython-input-9-deeab2af4c87>:14: RuntimeWarning: invalid value encountered in scalar divide\n",
      "  return numinator/denominator\n"
     ]
    },
    {
     "name": "stdout",
     "output_type": "stream",
     "text": [
      "TF-IDF Results:\n",
      "\n",
      "\ttweet: \n",
      "\t\tبریم واسه ۸۰ میلیون\n",
      "\tsimilarity:\t0.8794665120857836\n",
      "\n",
      "\ttweet: \n",
      "\t\tتا ۸۰ میلیون\n",
      "\tsimilarity:\t0.7389837580041799\n",
      "\n",
      "\ttweet: \n",
      "\t\tبریم برای سی میلیون\n",
      "\tsimilarity:\t0.6614061626750124\n",
      "\n",
      "\ttweet: \n",
      "\t\tمیریم برای ۸۰ میلیون\n",
      "\tsimilarity:\t0.6483774893610668\n",
      "\n",
      "\ttweet: \n",
      "\t\tبریم تا ۸۰ میل\n",
      "\tsimilarity:\t0.5848430828366494\n",
      "\n",
      "\ttweet: \n",
      "\t\tبریم\n",
      "\tsimilarity:\t0.5616340562850123\n",
      "\n",
      "\ttweet: \n",
      "\t\tبا کیا شدیم ۸۰ میلیون نفر\n",
      "\tsimilarity:\t0.46285040884170664\n",
      "\n",
      "\ttweet: \n",
      "\t\tمیریم واسه ۵۰و ۸۰ میلیون\n",
      "\tsimilarity:\t0.4478971320148744\n",
      "\n",
      "\ttweet: \n",
      "\t\tاخ کاش برسونیمش به ۸۰ میلیون \n",
      "\tsimilarity:\t0.44341167734096393\n",
      "\n",
      "\ttweet: \n",
      "\t\tبریم چهار\n",
      "\tsimilarity:\t0.4200767619165326\n",
      "\n"
     ]
    }
   ],
   "source": [
    "similarities = dict()\n",
    "tweet_emb = X.toarray()[index]\n",
    "\n",
    "for i, t_emb in enumerate(X.toarray()):\n",
    "    if i != index:\n",
    "        similarity = cosine_similarity(t_emb, tweet_emb)\n",
    "        similarities[i] = similarity\n",
    "\n",
    "sorted_similarities = sorted(similarities.items(), key=lambda x:x[1], reverse=True)[:10]\n",
    "\n",
    "print('TF-IDF Results:')\n",
    "print(''.join([f'\\n\\ttweet: \\n\\t\\t{corpus[k]}\\n\\tsimilarity:\\t{v}\\n'for k,v in sorted_similarities]))"
   ]
  },
  {
   "cell_type": "markdown",
   "metadata": {
    "id": "3GHvpTAZu7ZU"
   },
   "source": [
    "### Describe advantages and disadvantages of TF-IDF\n",
    "\n",
    "\n",
    "---\n",
    "\n",
    "\n",
    "#### Advantages\n",
    "*    Balancing Frequency and Importance: TF-IDF balances the term frequency (how often a word appears in a document) and its inverse document frequency (how rare a word is across a set of documents) to provide a more meaningful representation of word importance.\n",
    "*    Improved Model Performance: By assigning higher weights to important words and lower weights to less important words, TF-IDF allows machine learning models to focus on the most relevant features, often resulting in improved model accuracy and performance.\n",
    "*    Efficient Vectorization: TF-IDF vectorization involves calculating the TF-IDF score for every word in a corpus relative to a document, which can be used to create vectors that represent the text in a format suitable for machine learning algorithms.\n",
    "*    Useful for Information Retrieval: TF-IDF is commonly used in search engines and information retrieval systems to rank documents based on their relevance to a user's query.\n",
    "*    Simple and Easy to Understand: The math behind TF-IDF is straightforward, making it easy to understand and use.\n",
    "\n",
    "\n",
    "---\n",
    "\n",
    "\n",
    "#### Disadvantages\n",
    "*    Lack of Semantic Meaning: TF-IDF does not capture the semantic meaning of words. It is primarily concerned with indicating the importance of words in a document, rather than their relationships or context.\n",
    "*    Rare Words and Long Documents: TF-IDF can struggle with rare words and long documents, as it may not accurately reflect the importance of such words in the context of the entire corpus.\n",
    "*    Limited for Complex NLP Tasks: While TF-IDF is useful for text classification, sentiment analysis, and keyword extraction, it may not be the best choice for tasks that require capturing the semantic relationship between words, such as word embeddings.\n",
    "*    Clustering Limitations: TF-IDF can cluster documents that are keyword similar, making it less suitable for identifying documents that discuss the same topic but use different keywords."
   ]
  },
  {
   "cell_type": "markdown",
   "metadata": {
    "id": "INM6vtm2zqJs"
   },
   "source": [
    "# 4. Word2Vec"
   ]
  },
  {
   "cell_type": "code",
   "execution_count": null,
   "metadata": {
    "id": "Np5WJZdb_uV5"
   },
   "outputs": [],
   "source": [
    "def tokenize_text(text):\n",
    "    return [word.strip() for word in text.split()]"
   ]
  },
  {
   "cell_type": "code",
   "execution_count": null,
   "metadata": {
    "id": "GGRucb63Cf9e"
   },
   "outputs": [],
   "source": [
    "def build_w2v_vocabulary(model):\n",
    "    vocabulary = dict()\n",
    "    for word in model.wv.index_to_key:\n",
    "        vocabulary[word] = model.wv[word]\n",
    "    return vocabulary"
   ]
  },
  {
   "cell_type": "code",
   "execution_count": null,
   "metadata": {
    "colab": {
     "base_uri": "https://localhost:8080/"
    },
    "id": "EAcGqsyKFS8O",
    "outputId": "3bd9ec6f-1433-4a18-b60e-28437a85b7eb"
   },
   "outputs": [
    {
     "name": "stdout",
     "output_type": "stream",
     "text": [
      "With vector_size=1000: \n",
      "\n",
      "\tابادی - 0.9951343536376953\n",
      "\tامید - 0.9943196773529053\n",
      "\tخواهرم - 0.9888500571250916\n",
      "\tاستقامت - 0.986889660358429\n",
      "\tایران - 0.9853800535202026\n",
      "\tامینی - 0.9832085371017456\n",
      "\tمیهن - 0.9830191731452942\n",
      "\tمهسا - 0.9823393225669861\n",
      "\tبرای - 0.9816274046897888\n",
      "\tمهسا🖤 - 0.9810211658477783\n",
      "\n",
      "With vector_size=5000: \n",
      "\n",
      "\tامید - 0.99808669090271\n",
      "\tمهسا🖤 - 0.9941138625144958\n",
      "\tابادی - 0.993466317653656\n",
      "\tمهسا - 0.9934418201446533\n",
      "\tبرای - 0.9930067658424377\n",
      "\tخواهرم - 0.9923779964447021\n",
      "\tایران - 0.9888638854026794\n",
      "\tامینی - 0.9885563254356384\n",
      "\tمیهن - 0.9829726815223694\n",
      "\tازادی🤍 - 0.9819926023483276\n",
      "\n",
      "With vector_size=10000: \n",
      "\n",
      "\tامید - 0.9983457922935486\n",
      "\tمهسا - 0.9955490231513977\n",
      "\tبرای - 0.9950383305549622\n",
      "\tمهسا🖤 - 0.9930261969566345\n",
      "\tابادی - 0.9918341636657715\n",
      "\tخواهرم - 0.9915587902069092\n",
      "\tایرانم🖤 - 0.9894627332687378\n",
      "\tایران - 0.988168478012085\n",
      "\tامینی - 0.9870553612709045\n",
      "\tازادی🤍 - 0.9845814108848572\n",
      "\n",
      "With vector_size=15000: \n",
      "\n",
      "\tامید - 0.9982794523239136\n",
      "\tمهسا - 0.996525228023529\n",
      "\tبرای - 0.995906412601471\n",
      "\tایرانم🖤 - 0.9924330711364746\n",
      "\tمهسا🖤 - 0.9908688068389893\n",
      "\tابادی - 0.9907321929931641\n",
      "\tخواهرم - 0.9907153844833374\n",
      "\tایران - 0.9875319004058838\n",
      "\tزن - 0.9856055974960327\n",
      "\tازادی🤍 - 0.9855222105979919\n",
      "\n",
      "With vector_size=20000: \n",
      "\n",
      "\tامید - 0.9981914758682251\n",
      "\tمهسا - 0.9969391822814941\n",
      "\tبرای - 0.9963027238845825\n",
      "\tایرانم🖤 - 0.9940268993377686\n",
      "\tابادی - 0.9899054169654846\n",
      "\tخواهرم - 0.9898850917816162\n",
      "\tمهسا🖤 - 0.9889026284217834\n",
      "\tزن - 0.9869042634963989\n",
      "\tایران - 0.9868535995483398\n",
      "\tزندگی - 0.9865732192993164\n",
      "\n"
     ]
    }
   ],
   "source": [
    "# 1. train a word2vec model base on all tweets\n",
    "# 2. find 10 nearest words from \"آزادی\"\n",
    "tokenized_text = df.map(tokenize_text)\n",
    "\n",
    "for vec_size in [1000, 5000, 10000, 15000, 20000]:\n",
    "    print(f'With vector_size={vec_size}: ')\n",
    "    word2vec_model = Word2Vec(sentences=tokenized_text.to_numpy(), seed=31, workers=1, vector_size=vec_size)\n",
    "    vocabulary = build_w2v_vocabulary(word2vec_model)\n",
    "    values = find_k_nearest_neighbors('آزادی', vocabulary, 10)\n",
    "    print(''.join([f'\\n\\t{v[0]} - {v[1]}'for v in values]))\n",
    "    print()"
   ]
  },
  {
   "cell_type": "markdown",
   "metadata": {
    "id": "xv39LXf0wkjd"
   },
   "source": [
    "### Describe advantages and disadvantages of Word2Vec\n",
    "\n",
    "\n",
    "---\n",
    "\n",
    "\n",
    "#### Advantages\n",
    "*   Semantic Meaning: Word2Vec captures the semantic meaning of words by placing semantically similar words close together in the vector space. As you can see from above results this method result well in task of finding similar words.\n",
    "*   Efficiency: It can be more efficient than one-hot encoding as it results in lower-dimensional vectors. So the computation of similarity or any other needed computation decreases as we observed above in action.\n",
    "\n",
    "\n",
    "---\n",
    "\n",
    "\n",
    "#### Disadvantages\n",
    "*   OOV Words: Word2Vec cannot handle unknown or out-of-vocabulary (OOV) words. If a word has not been encountered before, the model will not know how to interpret it. However there have been some extensions and updates for this technique such as fastText algorithm.\n",
    "*   No Sub-Word Information: Word2Vec does not account for shared representations at sub-word levels, which can be a limitation for understanding morphologically similar words or in languages with rich morphology.\n",
    "*   Scaling and Cross-Lingual Limitations: Scaling Word2Vec to new languages requires creating new embedding matrices, and it does not allow for cross-lingual parameter sharing."
   ]
  },
  {
   "cell_type": "markdown",
   "metadata": {
    "id": "RSdlWMl64aPN"
   },
   "source": [
    "# 5. Contextualized embedding"
   ]
  },
  {
   "cell_type": "code",
   "execution_count": null,
   "metadata": {
    "colab": {
     "base_uri": "https://localhost:8080/"
    },
    "id": "zgVAEQhyOPxg",
    "outputId": "4698c887-7b3a-4c10-89da-22fb5c5ddfd1"
   },
   "outputs": [
    {
     "name": "stdout",
     "output_type": "stream",
     "text": [
      "\u001b[2K     \u001b[90m━━━━━━━━━━━━━━━━━━━━━━━━━━━━━━━━━━━━━━━━\u001b[0m \u001b[32m290.1/290.1 kB\u001b[0m \u001b[31m7.7 MB/s\u001b[0m eta \u001b[36m0:00:00\u001b[0m\n",
      "\u001b[2K     \u001b[90m━━━━━━━━━━━━━━━━━━━━━━━━━━━━━━━━━━━━━━━━\u001b[0m \u001b[32m8.8/8.8 MB\u001b[0m \u001b[31m70.8 MB/s\u001b[0m eta \u001b[36m0:00:00\u001b[0m\n",
      "\u001b[2K     \u001b[90m━━━━━━━━━━━━━━━━━━━━━━━━━━━━━━━━━━━━━━━━\u001b[0m \u001b[32m510.5/510.5 kB\u001b[0m \u001b[31m49.7 MB/s\u001b[0m eta \u001b[36m0:00:00\u001b[0m\n",
      "\u001b[2K     \u001b[90m━━━━━━━━━━━━━━━━━━━━━━━━━━━━━━━━━━━━━━━━\u001b[0m \u001b[32m116.3/116.3 kB\u001b[0m \u001b[31m16.7 MB/s\u001b[0m eta \u001b[36m0:00:00\u001b[0m\n",
      "\u001b[2K     \u001b[90m━━━━━━━━━━━━━━━━━━━━━━━━━━━━━━━━━━━━━━━━\u001b[0m \u001b[32m194.1/194.1 kB\u001b[0m \u001b[31m27.4 MB/s\u001b[0m eta \u001b[36m0:00:00\u001b[0m\n",
      "\u001b[2K     \u001b[90m━━━━━━━━━━━━━━━━━━━━━━━━━━━━━━━━━━━━━━━━\u001b[0m \u001b[32m134.8/134.8 kB\u001b[0m \u001b[31m21.2 MB/s\u001b[0m eta \u001b[36m0:00:00\u001b[0m\n",
      "\u001b[2K     \u001b[90m━━━━━━━━━━━━━━━━━━━━━━━━━━━━━━━━━━━━━━━━\u001b[0m \u001b[32m23.7/23.7 MB\u001b[0m \u001b[31m71.2 MB/s\u001b[0m eta \u001b[36m0:00:00\u001b[0m\n",
      "\u001b[2K     \u001b[90m━━━━━━━━━━━━━━━━━━━━━━━━━━━━━━━━━━━━━━━━\u001b[0m \u001b[32m823.6/823.6 kB\u001b[0m \u001b[31m64.1 MB/s\u001b[0m eta \u001b[36m0:00:00\u001b[0m\n",
      "\u001b[2K     \u001b[90m━━━━━━━━━━━━━━━━━━━━━━━━━━━━━━━━━━━━━━━━\u001b[0m \u001b[32m14.1/14.1 MB\u001b[0m \u001b[31m87.2 MB/s\u001b[0m eta \u001b[36m0:00:00\u001b[0m\n",
      "\u001b[2K     \u001b[90m━━━━━━━━━━━━━━━━━━━━━━━━━━━━━━━━━━━━━━━━\u001b[0m \u001b[32m731.7/731.7 MB\u001b[0m \u001b[31m2.4 MB/s\u001b[0m eta \u001b[36m0:00:00\u001b[0m\n",
      "\u001b[2K     \u001b[90m━━━━━━━━━━━━━━━━━━━━━━━━━━━━━━━━━━━━━━━━\u001b[0m \u001b[32m410.6/410.6 MB\u001b[0m \u001b[31m3.1 MB/s\u001b[0m eta \u001b[36m0:00:00\u001b[0m\n",
      "\u001b[2K     \u001b[90m━━━━━━━━━━━━━━━━━━━━━━━━━━━━━━━━━━━━━━━━\u001b[0m \u001b[32m121.6/121.6 MB\u001b[0m \u001b[31m8.4 MB/s\u001b[0m eta \u001b[36m0:00:00\u001b[0m\n",
      "\u001b[2K     \u001b[90m━━━━━━━━━━━━━━━━━━━━━━━━━━━━━━━━━━━━━━━━\u001b[0m \u001b[32m56.5/56.5 MB\u001b[0m \u001b[31m11.7 MB/s\u001b[0m eta \u001b[36m0:00:00\u001b[0m\n",
      "\u001b[2K     \u001b[90m━━━━━━━━━━━━━━━━━━━━━━━━━━━━━━━━━━━━━━━━\u001b[0m \u001b[32m124.2/124.2 MB\u001b[0m \u001b[31m8.5 MB/s\u001b[0m eta \u001b[36m0:00:00\u001b[0m\n",
      "\u001b[2K     \u001b[90m━━━━━━━━━━━━━━━━━━━━━━━━━━━━━━━━━━━━━━━━\u001b[0m \u001b[32m196.0/196.0 MB\u001b[0m \u001b[31m2.3 MB/s\u001b[0m eta \u001b[36m0:00:00\u001b[0m\n",
      "\u001b[2K     \u001b[90m━━━━━━━━━━━━━━━━━━━━━━━━━━━━━━━━━━━━━━━━\u001b[0m \u001b[32m166.0/166.0 MB\u001b[0m \u001b[31m2.2 MB/s\u001b[0m eta \u001b[36m0:00:00\u001b[0m\n",
      "\u001b[2K     \u001b[90m━━━━━━━━━━━━━━━━━━━━━━━━━━━━━━━━━━━━━━━━\u001b[0m \u001b[32m99.1/99.1 kB\u001b[0m \u001b[31m12.9 MB/s\u001b[0m eta \u001b[36m0:00:00\u001b[0m\n",
      "\u001b[2K     \u001b[90m━━━━━━━━━━━━━━━━━━━━━━━━━━━━━━━━━━━━━━━━\u001b[0m \u001b[32m21.1/21.1 MB\u001b[0m \u001b[31m55.5 MB/s\u001b[0m eta \u001b[36m0:00:00\u001b[0m\n",
      "\u001b[?25h"
     ]
    }
   ],
   "source": [
    "!pip install -Uq accelerate transformers[sentencepiece] datasets"
   ]
  },
  {
   "cell_type": "code",
   "execution_count": null,
   "metadata": {
    "id": "Q7d_MIWlH8xb"
   },
   "outputs": [],
   "source": [
    "from transformers import AutoModelForMaskedLM, AutoTokenizer, DataCollatorForLanguageModeling, TrainingArguments, Trainer\n",
    "from datasets import Dataset, DatasetDict\n",
    "\n",
    "model_name = \"HooshvareLab/bert-base-parsbert-uncased\"\n",
    "model_path = 'persian-tweets-embeddings'"
   ]
  },
  {
   "cell_type": "code",
   "execution_count": null,
   "metadata": {
    "colab": {
     "base_uri": "https://localhost:8080/",
     "height": 360,
     "referenced_widgets": [
      "c86b5d8e9ea948bd9acea8cdd5923189",
      "49209d2485044024953c31a4032cda4a",
      "8a4bcd5343784c33b16f8ca19a2c6b06",
      "8d9133b4304f4412a3c651a196fc34fd",
      "b9e919e5e9b948c992ac4d9782014eb4",
      "3ff426959e364fa9a989572bbf80153b",
      "bcb20832f18c4223a8ec399250c5838c",
      "9bc07b9fd21448d3a5c2b881fa2ad23c",
      "a7e2b85a3bcc43cdaeac40bc4ce853f1",
      "644893e511b64654ab32efa7e84cfefb",
      "8fb90abab11c4669861dbc0a260880c8",
      "b9d6d88b47b14ef9b1796641d42a077c",
      "d9532817d7e24c3886ed56e17e87596a",
      "ad274b1ff8854f43814c2dd686fdc787",
      "d1285669a3694001b294d41f8227c217",
      "1542ac50069c41fcbac93bfcfcb50597",
      "3d9e98a54d5a48a685d57b740ad27064"
     ]
    },
    "id": "f1gPAVDWJeHh",
    "outputId": "fd0993f8-ba58-48e9-f6bf-83722f916e9b"
   },
   "outputs": [
    {
     "data": {
      "application/vnd.jupyter.widget-view+json": {
       "model_id": "c86b5d8e9ea948bd9acea8cdd5923189",
       "version_major": 2,
       "version_minor": 0
      },
      "text/plain": [
       "VBox(children=(HTML(value='<center> <img\\nsrc=https://huggingface.co/front/assets/huggingface_logo-noborder.sv…"
      ]
     },
     "metadata": {},
     "output_type": "display_data"
    }
   ],
   "source": [
    "from huggingface_hub import notebook_login\n",
    "\n",
    "notebook_login()"
   ]
  },
  {
   "cell_type": "code",
   "execution_count": null,
   "metadata": {
    "colab": {
     "base_uri": "https://localhost:8080/"
    },
    "id": "GfKEqNml6eEB",
    "outputId": "db62e43a-ce16-4abf-a92b-7f35757b52b4"
   },
   "outputs": [
    {
     "name": "stderr",
     "output_type": "stream",
     "text": [
      "Some weights of the model checkpoint at HooshvareLab/bert-base-parsbert-uncased were not used when initializing BertForMaskedLM: ['bert.pooler.dense.bias', 'bert.pooler.dense.weight', 'cls.seq_relationship.bias', 'cls.seq_relationship.weight']\n",
      "- This IS expected if you are initializing BertForMaskedLM from the checkpoint of a model trained on another task or with another architecture (e.g. initializing a BertForSequenceClassification model from a BertForPreTraining model).\n",
      "- This IS NOT expected if you are initializing BertForMaskedLM from the checkpoint of a model that you expect to be exactly identical (initializing a BertForSequenceClassification model from a BertForSequenceClassification model).\n"
     ]
    }
   ],
   "source": [
    "# Load model and tokenizer\n",
    "bert_model = AutoModelForMaskedLM.from_pretrained(model_name)\n",
    "bert_tokenizer = AutoTokenizer.from_pretrained(model_name)"
   ]
  },
  {
   "cell_type": "code",
   "execution_count": null,
   "metadata": {
    "id": "1IhBrypkaYiV"
   },
   "outputs": [],
   "source": [
    "dataset = Dataset.from_pandas(pd.DataFrame(df))\n",
    "train_dataset, eval_dataset = dataset.train_test_split(test_size=0.05).values()\n",
    "dataset_dict = DatasetDict({\"train\":train_dataset,\"eval\":eval_dataset})"
   ]
  },
  {
   "cell_type": "code",
   "execution_count": null,
   "metadata": {
    "colab": {
     "base_uri": "https://localhost:8080/"
    },
    "id": "02MmDdRFitdT",
    "outputId": "07cbe639-01dc-40ae-af38-d8b6427f566b"
   },
   "outputs": [
    {
     "data": {
      "text/plain": [
       "DatasetDict({\n",
       "    train: Dataset({\n",
       "        features: ['Text'],\n",
       "        num_rows: 19000\n",
       "    })\n",
       "    eval: Dataset({\n",
       "        features: ['Text'],\n",
       "        num_rows: 1000\n",
       "    })\n",
       "})"
      ]
     },
     "execution_count": 37,
     "metadata": {},
     "output_type": "execute_result"
    }
   ],
   "source": [
    "dataset_dict"
   ]
  },
  {
   "cell_type": "code",
   "execution_count": null,
   "metadata": {
    "colab": {
     "base_uri": "https://localhost:8080/",
     "height": 81,
     "referenced_widgets": [
      "68ca71a2eb5b4307a6261f5bd0901f50",
      "8266b338fe474a03818df268c9ad1c73",
      "54d2f9b88b734737bb3e262a0724bab8",
      "6daf0f68d5ab45e49833a154072df068",
      "7f5cddb7e53a41619c95cdc5a38f6259",
      "c357a27616db4ca38009b072deca2dfe",
      "a9f2253c3d1540fc9330f01fd49f76b2",
      "ad29217b6edc48399a25bb15c4bfbdbc",
      "e455d9457eca48f78ba2dc4362a87a61",
      "4e72fe232c4a40d6b0199205f208afd4",
      "9ae67119eda141328c2bdb3d441817f3",
      "415ac903d60140baa3ce8db618769e8d",
      "eb1ae4baf74e400384a27b3e78e5a017",
      "4c7923b6162441d295a762c0ec01da71",
      "148052d9b96c4f289d1beb6e4298da3b",
      "1b8f3516cb4448d78eddbe1bd338fd32",
      "0c84708ed061452694acdcf994cd7077",
      "d6b2e91671b64655bf3aabdd299e8f6c",
      "71852f05e5954faa95a5d4734845e242",
      "4e1dcba66098423a803622fe2e8ba17b",
      "44cd3b33a29c495eb5dcdfb7a7e565e4",
      "2220cb39bf4a466e8a967ff66d029f75"
     ]
    },
    "id": "8vL662XZiQCm",
    "outputId": "f0718fd1-c1f0-4e55-ee75-ff98cea3f778"
   },
   "outputs": [
    {
     "data": {
      "application/vnd.jupyter.widget-view+json": {
       "model_id": "68ca71a2eb5b4307a6261f5bd0901f50",
       "version_major": 2,
       "version_minor": 0
      },
      "text/plain": [
       "Map:   0%|          | 0/19000 [00:00<?, ? examples/s]"
      ]
     },
     "metadata": {},
     "output_type": "display_data"
    },
    {
     "data": {
      "application/vnd.jupyter.widget-view+json": {
       "model_id": "415ac903d60140baa3ce8db618769e8d",
       "version_major": 2,
       "version_minor": 0
      },
      "text/plain": [
       "Map:   0%|          | 0/1000 [00:00<?, ? examples/s]"
      ]
     },
     "metadata": {},
     "output_type": "display_data"
    }
   ],
   "source": [
    "def preprocess_function(examples):\n",
    "    return bert_tokenizer([\" \".join(x) for x in examples[\"Text\"]])\n",
    "\n",
    "tokenized_datasets = dataset_dict.map(preprocess_function, batched=True, remove_columns='Text')"
   ]
  },
  {
   "cell_type": "code",
   "execution_count": null,
   "metadata": {
    "colab": {
     "base_uri": "https://localhost:8080/"
    },
    "id": "W4PQeWabtxLN",
    "outputId": "48a7a478-55a4-433e-bcf5-d3579f4c6efc"
   },
   "outputs": [
    {
     "data": {
      "text/plain": [
       "DatasetDict({\n",
       "    train: Dataset({\n",
       "        features: ['input_ids', 'token_type_ids', 'attention_mask'],\n",
       "        num_rows: 19000\n",
       "    })\n",
       "    eval: Dataset({\n",
       "        features: ['input_ids', 'token_type_ids', 'attention_mask'],\n",
       "        num_rows: 1000\n",
       "    })\n",
       "})"
      ]
     },
     "execution_count": 39,
     "metadata": {},
     "output_type": "execute_result"
    }
   ],
   "source": [
    "tokenized_datasets"
   ]
  },
  {
   "cell_type": "code",
   "execution_count": null,
   "metadata": {
    "id": "Kr_wgmUUvxAP"
   },
   "outputs": [],
   "source": [
    "block_size = 128"
   ]
  },
  {
   "cell_type": "code",
   "execution_count": null,
   "metadata": {
    "id": "2Utsz13yvtNu"
   },
   "outputs": [],
   "source": [
    "def group_texts(examples):\n",
    "    # Concatenate all texts.\n",
    "    concatenated_examples = {k: sum(examples[k], []) for k in examples.keys()}\n",
    "    total_length = len(concatenated_examples[list(examples.keys())[0]])\n",
    "    # We drop the small remainder, we could add padding if the model supported it instead of this drop, you can\n",
    "    # customize this part to your needs.\n",
    "    if total_length >= block_size:\n",
    "        total_length = (total_length // block_size) * block_size\n",
    "    # Split by chunks of block_size.\n",
    "    result = {\n",
    "        k: [t[i : i + block_size] for i in range(0, total_length, block_size)]\n",
    "        for k, t in concatenated_examples.items()\n",
    "    }\n",
    "    return result"
   ]
  },
  {
   "cell_type": "code",
   "execution_count": null,
   "metadata": {
    "colab": {
     "base_uri": "https://localhost:8080/",
     "height": 263,
     "referenced_widgets": [
      "d4857250d2654280ab702643f9940988",
      "54a2ea05880147bf9a61f4cb6bb771cc",
      "edbb34bdadcb4fa29c9a373d1760dd4b",
      "f0e7edd277764f038326d206a021a61f",
      "fee46a75c6d0499fa92df6f00f67d617",
      "d4a68fd7e9f342708380b56990679dc8",
      "403bff9d26c34b829832882d4173ca3a",
      "c8776f0e40ad40d2a7a46dc0831982a1",
      "5adfa18250764d79b37e1eb57e262370",
      "334d7917f7f84f1b9ea74e2d814fdb5b",
      "587322d1fcd64c8b8a1902135fd19bd2",
      "83e3be9c9dec4c62a67bd85240fc840e",
      "1d5864df24094e7ebbc17660beeea09f",
      "39d357847ed04a429762ca04aa7c1446",
      "501b39d881b54cca85c49d5f7825b270",
      "fc587cc07cf14f3babf54ae479b09a03",
      "fd01564f48b948cd86b305ff14a66d55",
      "7ad63a418bc548a38cd73442b3bc2d93",
      "af9e6ba830b54e069d74bd96bf74258e",
      "9501295c5ed044159cf1d8a4996f12e5",
      "81d3ccafa7164633a8bdb12800db9aef",
      "5f6ac7d9c17b42f4be48c613c8962842"
     ]
    },
    "id": "zNc945Wcv0vB",
    "outputId": "22ca7d69-7857-40e5-93d9-18e6326cd4e0"
   },
   "outputs": [
    {
     "data": {
      "application/vnd.jupyter.widget-view+json": {
       "model_id": "d4857250d2654280ab702643f9940988",
       "version_major": 2,
       "version_minor": 0
      },
      "text/plain": [
       "Map:   0%|          | 0/19000 [00:00<?, ? examples/s]"
      ]
     },
     "metadata": {},
     "output_type": "display_data"
    },
    {
     "data": {
      "application/vnd.jupyter.widget-view+json": {
       "model_id": "83e3be9c9dec4c62a67bd85240fc840e",
       "version_major": 2,
       "version_minor": 0
      },
      "text/plain": [
       "Map:   0%|          | 0/1000 [00:00<?, ? examples/s]"
      ]
     },
     "metadata": {},
     "output_type": "display_data"
    },
    {
     "data": {
      "text/plain": [
       "DatasetDict({\n",
       "    train: Dataset({\n",
       "        features: ['input_ids', 'token_type_ids', 'attention_mask'],\n",
       "        num_rows: 6141\n",
       "    })\n",
       "    eval: Dataset({\n",
       "        features: ['input_ids', 'token_type_ids', 'attention_mask'],\n",
       "        num_rows: 323\n",
       "    })\n",
       "})"
      ]
     },
     "execution_count": 42,
     "metadata": {},
     "output_type": "execute_result"
    }
   ],
   "source": [
    "lm_dataset = tokenized_datasets.map(group_texts, batched=True)\n",
    "lm_dataset"
   ]
  },
  {
   "cell_type": "code",
   "execution_count": null,
   "metadata": {
    "id": "ttjpNinNwC2T"
   },
   "outputs": [],
   "source": [
    "data_collator = DataCollatorForLanguageModeling(tokenizer=bert_tokenizer, mlm=True, mlm_probability=0.2)"
   ]
  },
  {
   "cell_type": "code",
   "execution_count": null,
   "metadata": {
    "id": "-zufibXLY-5h"
   },
   "outputs": [],
   "source": [
    "training_args = TrainingArguments(\n",
    "    output_dir=model_path,          # output directory to where save model checkpoint\n",
    "    evaluation_strategy=\"epoch\",\n",
    "    save_strategy='epoch',\n",
    "    learning_rate=2e-5,\n",
    "    num_train_epochs=3,\n",
    "    weight_decay=0.01,\n",
    "    load_best_model_at_end=True,  # whether to load the best model (in terms of loss) at the end of training\n",
    "    push_to_hub=True,\n",
    ")"
   ]
  },
  {
   "cell_type": "code",
   "execution_count": null,
   "metadata": {
    "colab": {
     "base_uri": "https://localhost:8080/"
    },
    "id": "sEVcvkB2Zuh9",
    "outputId": "4510b301-d10d-4689-efdf-d78a61b50476"
   },
   "outputs": [
    {
     "name": "stderr",
     "output_type": "stream",
     "text": [
      "/usr/local/lib/python3.10/dist-packages/accelerate/accelerator.py:432: FutureWarning: Passing the following arguments to `Accelerator` is deprecated and will be removed in version 1.0 of Accelerate: dict_keys(['dispatch_batches', 'split_batches', 'even_batches', 'use_seedable_sampler']). Please pass an `accelerate.DataLoaderConfiguration` instead: \n",
      "dataloader_config = DataLoaderConfiguration(dispatch_batches=None, split_batches=False, even_batches=True, use_seedable_sampler=True)\n",
      "  warnings.warn(\n"
     ]
    }
   ],
   "source": [
    "trainer = Trainer(\n",
    "    model=bert_model,\n",
    "    args=training_args,\n",
    "    data_collator=data_collator,\n",
    "    train_dataset=lm_dataset['train'],\n",
    "    eval_dataset=lm_dataset['eval'],\n",
    ")"
   ]
  },
  {
   "cell_type": "code",
   "execution_count": null,
   "metadata": {
    "colab": {
     "base_uri": "https://localhost:8080/",
     "height": 314
    },
    "id": "EuCS8M4CcNe5",
    "outputId": "1e5dbca3-539a-4fe6-cbfd-70d82448f0f7"
   },
   "outputs": [
    {
     "data": {
      "text/html": [
       "\n",
       "    <div>\n",
       "      \n",
       "      <progress value='769' max='2304' style='width:300px; height:20px; vertical-align: middle;'></progress>\n",
       "      [ 769/2304 04:36 < 09:12, 2.78 it/s, Epoch 1/3]\n",
       "    </div>\n",
       "    <table border=\"1\" class=\"dataframe\">\n",
       "  <thead>\n",
       " <tr style=\"text-align: left;\">\n",
       "      <th>Epoch</th>\n",
       "      <th>Training Loss</th>\n",
       "      <th>Validation Loss</th>\n",
       "    </tr>\n",
       "  </thead>\n",
       "  <tbody>\n",
       "    <tr>\n",
       "      <td>1</td>\n",
       "      <td>2.362000</td>\n",
       "      <td>2.042575</td>\n",
       "    </tr>\n",
       "  </tbody>\n",
       "</table><p>"
      ],
      "text/plain": [
       "<IPython.core.display.HTML object>"
      ]
     },
     "metadata": {},
     "output_type": "display_data"
    },
    {
     "data": {
      "text/html": [
       "\n",
       "    <div>\n",
       "      \n",
       "      <progress value='2304' max='2304' style='width:300px; height:20px; vertical-align: middle;'></progress>\n",
       "      [2304/2304 14:55, Epoch 3/3]\n",
       "    </div>\n",
       "    <table border=\"1\" class=\"dataframe\">\n",
       "  <thead>\n",
       " <tr style=\"text-align: left;\">\n",
       "      <th>Epoch</th>\n",
       "      <th>Training Loss</th>\n",
       "      <th>Validation Loss</th>\n",
       "    </tr>\n",
       "  </thead>\n",
       "  <tbody>\n",
       "    <tr>\n",
       "      <td>1</td>\n",
       "      <td>2.362000</td>\n",
       "      <td>2.042575</td>\n",
       "    </tr>\n",
       "    <tr>\n",
       "      <td>2</td>\n",
       "      <td>1.995600</td>\n",
       "      <td>1.956014</td>\n",
       "    </tr>\n",
       "    <tr>\n",
       "      <td>3</td>\n",
       "      <td>1.926200</td>\n",
       "      <td>1.841535</td>\n",
       "    </tr>\n",
       "  </tbody>\n",
       "</table><p>"
      ],
      "text/plain": [
       "<IPython.core.display.HTML object>"
      ]
     },
     "metadata": {},
     "output_type": "display_data"
    },
    {
     "name": "stderr",
     "output_type": "stream",
     "text": [
      "There were missing keys in the checkpoint model loaded: ['cls.predictions.decoder.weight', 'cls.predictions.decoder.bias'].\n"
     ]
    },
    {
     "data": {
      "text/plain": [
       "TrainOutput(global_step=2304, training_loss=2.0717985894944935, metrics={'train_runtime': 897.5416, 'train_samples_per_second': 20.526, 'train_steps_per_second': 2.567, 'total_flos': 1213238601326592.0, 'train_loss': 2.0717985894944935, 'epoch': 3.0})"
      ]
     },
     "execution_count": 52,
     "metadata": {},
     "output_type": "execute_result"
    }
   ],
   "source": [
    "trainer.train()"
   ]
  },
  {
   "cell_type": "code",
   "execution_count": null,
   "metadata": {
    "colab": {
     "base_uri": "https://localhost:8080/",
     "height": 72
    },
    "id": "MNvmugq6NveJ",
    "outputId": "cbbd185e-c2d9-4193-ab37-38ea210d927a"
   },
   "outputs": [
    {
     "data": {
      "application/vnd.google.colaboratory.intrinsic+json": {
       "type": "string"
      },
      "text/plain": [
       "CommitInfo(commit_url='https://huggingface.co/kamyar-mroadian/persian-tweets-embeddings/commit/4087e25ff1b1da74bb4b890900eeda199ac00aa7', commit_message='End of training', commit_description='', oid='4087e25ff1b1da74bb4b890900eeda199ac00aa7', pr_url=None, pr_revision=None, pr_num=None)"
      ]
     },
     "execution_count": 53,
     "metadata": {},
     "output_type": "execute_result"
    }
   ],
   "source": [
    "trainer.push_to_hub()"
   ]
  },
  {
   "cell_type": "code",
   "execution_count": null,
   "metadata": {
    "id": "ZJc_gcy5ZFW1"
   },
   "outputs": [],
   "source": [
    "model_name = 'kamyar-mroadian/persian-tweets-embeddings'\n",
    "tokenizer_name = \"HooshvareLab/bert-base-parsbert-uncased\"\n",
    "bert_model = AutoModelForMaskedLM.from_pretrained(model_name, output_hidden_states=True)\n",
    "bert_tokenizer = AutoTokenizer.from_pretrained(tokenizer_name)"
   ]
  },
  {
   "cell_type": "code",
   "execution_count": null,
   "metadata": {
    "id": "NEjZTRK59fwm"
   },
   "outputs": [],
   "source": [
    "from transformers import pipeline\n",
    "from tqdm import tqdm\n",
    "bert_pipeline = pipeline('feature-extraction', model=bert_model, tokenizer=bert_tokenizer, device=0)"
   ]
  },
  {
   "cell_type": "code",
   "execution_count": null,
   "metadata": {
    "colab": {
     "base_uri": "https://localhost:8080/"
    },
    "id": "zQ0TeQT5Aof7",
    "outputId": "01bb64a6-1418-431e-8a16-c75a8d80f61c"
   },
   "outputs": [
    {
     "data": {
      "text/plain": [
       "BertForMaskedLM(\n",
       "  (bert): BertModel(\n",
       "    (embeddings): BertEmbeddings(\n",
       "      (word_embeddings): Embedding(100000, 768, padding_idx=0)\n",
       "      (position_embeddings): Embedding(512, 768)\n",
       "      (token_type_embeddings): Embedding(2, 768)\n",
       "      (LayerNorm): LayerNorm((768,), eps=1e-12, elementwise_affine=True)\n",
       "      (dropout): Dropout(p=0.1, inplace=False)\n",
       "    )\n",
       "    (encoder): BertEncoder(\n",
       "      (layer): ModuleList(\n",
       "        (0-11): 12 x BertLayer(\n",
       "          (attention): BertAttention(\n",
       "            (self): BertSelfAttention(\n",
       "              (query): Linear(in_features=768, out_features=768, bias=True)\n",
       "              (key): Linear(in_features=768, out_features=768, bias=True)\n",
       "              (value): Linear(in_features=768, out_features=768, bias=True)\n",
       "              (dropout): Dropout(p=0.1, inplace=False)\n",
       "            )\n",
       "            (output): BertSelfOutput(\n",
       "              (dense): Linear(in_features=768, out_features=768, bias=True)\n",
       "              (LayerNorm): LayerNorm((768,), eps=1e-12, elementwise_affine=True)\n",
       "              (dropout): Dropout(p=0.1, inplace=False)\n",
       "            )\n",
       "          )\n",
       "          (intermediate): BertIntermediate(\n",
       "            (dense): Linear(in_features=768, out_features=3072, bias=True)\n",
       "            (intermediate_act_fn): GELUActivation()\n",
       "          )\n",
       "          (output): BertOutput(\n",
       "            (dense): Linear(in_features=3072, out_features=768, bias=True)\n",
       "            (LayerNorm): LayerNorm((768,), eps=1e-12, elementwise_affine=True)\n",
       "            (dropout): Dropout(p=0.1, inplace=False)\n",
       "          )\n",
       "        )\n",
       "      )\n",
       "    )\n",
       "  )\n",
       "  (cls): BertOnlyMLMHead(\n",
       "    (predictions): BertLMPredictionHead(\n",
       "      (transform): BertPredictionHeadTransform(\n",
       "        (dense): Linear(in_features=768, out_features=768, bias=True)\n",
       "        (transform_act_fn): GELUActivation()\n",
       "        (LayerNorm): LayerNorm((768,), eps=1e-12, elementwise_affine=True)\n",
       "      )\n",
       "      (decoder): Linear(in_features=768, out_features=100000, bias=True)\n",
       "    )\n",
       "  )\n",
       ")"
      ]
     },
     "execution_count": 34,
     "metadata": {},
     "output_type": "execute_result"
    }
   ],
   "source": [
    "device = torch.device(\"cuda\" if torch.cuda.is_available() else \"cpu\")\n",
    "bert_model.to(device)"
   ]
  },
  {
   "cell_type": "code",
   "execution_count": null,
   "metadata": {
    "id": "ST1q_Kt19rQ3"
   },
   "outputs": [],
   "source": [
    "from tqdm import tqdm\n",
    "\n",
    "def build_bert_vocabulary(words:list):\n",
    "    tokens = [bert_tokenizer.tokenize(word) for word in words]\n",
    "\n",
    "    # Convert tokens to input IDs\n",
    "    input_ids = [bert_tokenizer.convert_tokens_to_ids(token) for token in tokens]\n",
    "\n",
    "    # Move the model to the device\n",
    "    bert_model.to(device)\n",
    "\n",
    "    # Generate embeddings for each set of input IDs\n",
    "    embeddings = []\n",
    "    i = 0\n",
    "    for ids in tqdm(input_ids):\n",
    "        inputs = torch.tensor(ids).unsqueeze(0).to(device)  # Add batch dimension and move to device\n",
    "        with torch.no_grad():\n",
    "            try:\n",
    "                outputs = bert_model(inputs).hidden_states[-1].to('cpu').squeeze()\n",
    "            except:\n",
    "                outputs = torch.zeros(768) # Handle words not tokenized well\n",
    "        if outputs.dim() > 1: # Get the mean embedding for the word\n",
    "            embedding = outputs.mean(dim=0).numpy()\n",
    "        else:\n",
    "            embedding = outputs.numpy()\n",
    "        embeddings.append(embedding)\n",
    "\n",
    "    return dict(zip(words, embeddings))"
   ]
  },
  {
   "cell_type": "code",
   "execution_count": null,
   "metadata": {
    "colab": {
     "base_uri": "https://localhost:8080/"
    },
    "id": "uc8hBCnn4cV_",
    "outputId": "60cf2062-302e-46c8-8aa4-e21864d5bafa"
   },
   "outputs": [
    {
     "name": "stderr",
     "output_type": "stream",
     "text": [
      "100%|██████████| 25051/25051 [05:01<00:00, 82.99it/s]\n"
     ]
    }
   ],
   "source": [
    "words = find_words(df)\n",
    "vocabulary = build_bert_vocabulary(words)"
   ]
  },
  {
   "cell_type": "code",
   "execution_count": null,
   "metadata": {
    "colab": {
     "base_uri": "https://localhost:8080/"
    },
    "id": "jeTZ7XrY-q2D",
    "outputId": "9fbfbf5a-d59d-415b-ca94-23808db6d18a"
   },
   "outputs": [
    {
     "data": {
      "text/plain": [
       "[('ازادى', 0.7537505),\n",
       " ('ازادیت', 0.7168002),\n",
       " ('ازادیو', 0.6991623),\n",
       " ('ازادی۳', 0.6973397),\n",
       " ('ازادیم', 0.6834783),\n",
       " ('ازادانه', 0.6719267),\n",
       " ('ازادیه', 0.6645093),\n",
       " ('٬ازادی', 0.6594013),\n",
       " ('ازادیان', 0.65564626),\n",
       " ('ازادیست', 0.6476268)]"
      ]
     },
     "execution_count": 139,
     "metadata": {},
     "output_type": "execute_result"
    }
   ],
   "source": [
    "find_k_nearest_neighbors('آزادی', vocabulary, k=10)"
   ]
  },
  {
   "cell_type": "markdown",
   "metadata": {
    "id": "Al-4HT8KxTwd"
   },
   "source": [
    "### Describe advantages and disadvantages of Contextualized embedding\n",
    "\n",
    "\n",
    "---\n",
    "\n",
    "\n",
    "#### Advantages\n",
    "*    Contextualized Embeddings: BERT generates word embeddings that consider the context in which a word appears, allowing it to capture subtle differences in meaning and usage that other methods may miss.\n",
    "*    Finding most similar words: Another good result we can observe is that Contexualized Embeddings give greate results and can find most similar words in structure to the target word.\n",
    "*    Applicability: BERT's embeddings can be used in a wide range of natural language processing tasks, such as sentiment analysis, text classification, and named entity recognition and it can perfectly result in any of these fields if pretrained well on the target context corpus.\n",
    "\n",
    "\n",
    "---\n",
    "\n",
    "\n",
    "#### Disadvantages\n",
    "*    Time Consuming Training: Because of the fact that we need to use a neural network for this type of embeddings, so we need to train it first, and training a model with such huge number of parameters is extremely time-consuming as we observed above in training model, which took about 15 minutes to complete.\n",
    "*    Computational Cost: BERT is a large and complex model that requires significant computational resources, making it less suitable for use on low-power devices or in real-time applications. As you can observe, in above examples it took about 5 minutes to create the embedding dictionary after training the model. so it takes alot to get the output of model for each of the words inside the vocabulary.\n",
    "*    Limited Interpretability: The high-dimensional vectors produced by BERT can be difficult to interpret, posing challenges for explaining the behavior of models that use these embeddings.\n"
   ]
  }
 ],
 "metadata": {
  "accelerator": "GPU",
  "colab": {
   "collapsed_sections": [
    "cz4cWWgA4xBF",
    "HSdhgIpjrflp",
    "Qf6SERLcrflp",
    "QfkR1RJerflq",
    "Nqr5DLDYuKd-",
    "qHeSYFUKw5gw",
    "INM6vtm2zqJs",
    "RSdlWMl64aPN"
   ],
   "gpuType": "T4",
   "provenance": [],
   "toc_visible": true
  },
  "kernelspec": {
   "display_name": "Python 3",
   "language": "python",
   "name": "python3"
  },
  "language_info": {
   "codemirror_mode": {
    "name": "ipython",
    "version": 3
   },
   "file_extension": ".py",
   "mimetype": "text/x-python",
   "name": "python",
   "nbconvert_exporter": "python",
   "pygments_lexer": "ipython3",
   "version": "3.10.6"
  },
  "widgets": {
   "application/vnd.jupyter.widget-state+json": {
    "0c84708ed061452694acdcf994cd7077": {
     "model_module": "@jupyter-widgets/base",
     "model_module_version": "1.2.0",
     "model_name": "LayoutModel",
     "state": {
      "_model_module": "@jupyter-widgets/base",
      "_model_module_version": "1.2.0",
      "_model_name": "LayoutModel",
      "_view_count": null,
      "_view_module": "@jupyter-widgets/base",
      "_view_module_version": "1.2.0",
      "_view_name": "LayoutView",
      "align_content": null,
      "align_items": null,
      "align_self": null,
      "border": null,
      "bottom": null,
      "display": null,
      "flex": null,
      "flex_flow": null,
      "grid_area": null,
      "grid_auto_columns": null,
      "grid_auto_flow": null,
      "grid_auto_rows": null,
      "grid_column": null,
      "grid_gap": null,
      "grid_row": null,
      "grid_template_areas": null,
      "grid_template_columns": null,
      "grid_template_rows": null,
      "height": null,
      "justify_content": null,
      "justify_items": null,
      "left": null,
      "margin": null,
      "max_height": null,
      "max_width": null,
      "min_height": null,
      "min_width": null,
      "object_fit": null,
      "object_position": null,
      "order": null,
      "overflow": null,
      "overflow_x": null,
      "overflow_y": null,
      "padding": null,
      "right": null,
      "top": null,
      "visibility": null,
      "width": null
     }
    },
    "148052d9b96c4f289d1beb6e4298da3b": {
     "model_module": "@jupyter-widgets/controls",
     "model_module_version": "1.5.0",
     "model_name": "HTMLModel",
     "state": {
      "_dom_classes": [],
      "_model_module": "@jupyter-widgets/controls",
      "_model_module_version": "1.5.0",
      "_model_name": "HTMLModel",
      "_view_count": null,
      "_view_module": "@jupyter-widgets/controls",
      "_view_module_version": "1.5.0",
      "_view_name": "HTMLView",
      "description": "",
      "description_tooltip": null,
      "layout": "IPY_MODEL_44cd3b33a29c495eb5dcdfb7a7e565e4",
      "placeholder": "​",
      "style": "IPY_MODEL_2220cb39bf4a466e8a967ff66d029f75",
      "value": " 1000/1000 [00:00&lt;00:00, 6752.95 examples/s]"
     }
    },
    "1542ac50069c41fcbac93bfcfcb50597": {
     "model_module": "@jupyter-widgets/base",
     "model_module_version": "1.2.0",
     "model_name": "LayoutModel",
     "state": {
      "_model_module": "@jupyter-widgets/base",
      "_model_module_version": "1.2.0",
      "_model_name": "LayoutModel",
      "_view_count": null,
      "_view_module": "@jupyter-widgets/base",
      "_view_module_version": "1.2.0",
      "_view_name": "LayoutView",
      "align_content": null,
      "align_items": null,
      "align_self": null,
      "border": null,
      "bottom": null,
      "display": null,
      "flex": null,
      "flex_flow": null,
      "grid_area": null,
      "grid_auto_columns": null,
      "grid_auto_flow": null,
      "grid_auto_rows": null,
      "grid_column": null,
      "grid_gap": null,
      "grid_row": null,
      "grid_template_areas": null,
      "grid_template_columns": null,
      "grid_template_rows": null,
      "height": null,
      "justify_content": null,
      "justify_items": null,
      "left": null,
      "margin": null,
      "max_height": null,
      "max_width": null,
      "min_height": null,
      "min_width": null,
      "object_fit": null,
      "object_position": null,
      "order": null,
      "overflow": null,
      "overflow_x": null,
      "overflow_y": null,
      "padding": null,
      "right": null,
      "top": null,
      "visibility": null,
      "width": null
     }
    },
    "1b8f3516cb4448d78eddbe1bd338fd32": {
     "model_module": "@jupyter-widgets/base",
     "model_module_version": "1.2.0",
     "model_name": "LayoutModel",
     "state": {
      "_model_module": "@jupyter-widgets/base",
      "_model_module_version": "1.2.0",
      "_model_name": "LayoutModel",
      "_view_count": null,
      "_view_module": "@jupyter-widgets/base",
      "_view_module_version": "1.2.0",
      "_view_name": "LayoutView",
      "align_content": null,
      "align_items": null,
      "align_self": null,
      "border": null,
      "bottom": null,
      "display": null,
      "flex": null,
      "flex_flow": null,
      "grid_area": null,
      "grid_auto_columns": null,
      "grid_auto_flow": null,
      "grid_auto_rows": null,
      "grid_column": null,
      "grid_gap": null,
      "grid_row": null,
      "grid_template_areas": null,
      "grid_template_columns": null,
      "grid_template_rows": null,
      "height": null,
      "justify_content": null,
      "justify_items": null,
      "left": null,
      "margin": null,
      "max_height": null,
      "max_width": null,
      "min_height": null,
      "min_width": null,
      "object_fit": null,
      "object_position": null,
      "order": null,
      "overflow": null,
      "overflow_x": null,
      "overflow_y": null,
      "padding": null,
      "right": null,
      "top": null,
      "visibility": null,
      "width": null
     }
    },
    "1d5864df24094e7ebbc17660beeea09f": {
     "model_module": "@jupyter-widgets/controls",
     "model_module_version": "1.5.0",
     "model_name": "HTMLModel",
     "state": {
      "_dom_classes": [],
      "_model_module": "@jupyter-widgets/controls",
      "_model_module_version": "1.5.0",
      "_model_name": "HTMLModel",
      "_view_count": null,
      "_view_module": "@jupyter-widgets/controls",
      "_view_module_version": "1.5.0",
      "_view_name": "HTMLView",
      "description": "",
      "description_tooltip": null,
      "layout": "IPY_MODEL_fd01564f48b948cd86b305ff14a66d55",
      "placeholder": "​",
      "style": "IPY_MODEL_7ad63a418bc548a38cd73442b3bc2d93",
      "value": "Map: 100%"
     }
    },
    "2220cb39bf4a466e8a967ff66d029f75": {
     "model_module": "@jupyter-widgets/controls",
     "model_module_version": "1.5.0",
     "model_name": "DescriptionStyleModel",
     "state": {
      "_model_module": "@jupyter-widgets/controls",
      "_model_module_version": "1.5.0",
      "_model_name": "DescriptionStyleModel",
      "_view_count": null,
      "_view_module": "@jupyter-widgets/base",
      "_view_module_version": "1.2.0",
      "_view_name": "StyleView",
      "description_width": ""
     }
    },
    "334d7917f7f84f1b9ea74e2d814fdb5b": {
     "model_module": "@jupyter-widgets/base",
     "model_module_version": "1.2.0",
     "model_name": "LayoutModel",
     "state": {
      "_model_module": "@jupyter-widgets/base",
      "_model_module_version": "1.2.0",
      "_model_name": "LayoutModel",
      "_view_count": null,
      "_view_module": "@jupyter-widgets/base",
      "_view_module_version": "1.2.0",
      "_view_name": "LayoutView",
      "align_content": null,
      "align_items": null,
      "align_self": null,
      "border": null,
      "bottom": null,
      "display": null,
      "flex": null,
      "flex_flow": null,
      "grid_area": null,
      "grid_auto_columns": null,
      "grid_auto_flow": null,
      "grid_auto_rows": null,
      "grid_column": null,
      "grid_gap": null,
      "grid_row": null,
      "grid_template_areas": null,
      "grid_template_columns": null,
      "grid_template_rows": null,
      "height": null,
      "justify_content": null,
      "justify_items": null,
      "left": null,
      "margin": null,
      "max_height": null,
      "max_width": null,
      "min_height": null,
      "min_width": null,
      "object_fit": null,
      "object_position": null,
      "order": null,
      "overflow": null,
      "overflow_x": null,
      "overflow_y": null,
      "padding": null,
      "right": null,
      "top": null,
      "visibility": null,
      "width": null
     }
    },
    "39d357847ed04a429762ca04aa7c1446": {
     "model_module": "@jupyter-widgets/controls",
     "model_module_version": "1.5.0",
     "model_name": "FloatProgressModel",
     "state": {
      "_dom_classes": [],
      "_model_module": "@jupyter-widgets/controls",
      "_model_module_version": "1.5.0",
      "_model_name": "FloatProgressModel",
      "_view_count": null,
      "_view_module": "@jupyter-widgets/controls",
      "_view_module_version": "1.5.0",
      "_view_name": "ProgressView",
      "bar_style": "success",
      "description": "",
      "description_tooltip": null,
      "layout": "IPY_MODEL_af9e6ba830b54e069d74bd96bf74258e",
      "max": 1000,
      "min": 0,
      "orientation": "horizontal",
      "style": "IPY_MODEL_9501295c5ed044159cf1d8a4996f12e5",
      "value": 1000
     }
    },
    "3d9e98a54d5a48a685d57b740ad27064": {
     "model_module": "@jupyter-widgets/controls",
     "model_module_version": "1.5.0",
     "model_name": "DescriptionStyleModel",
     "state": {
      "_model_module": "@jupyter-widgets/controls",
      "_model_module_version": "1.5.0",
      "_model_name": "DescriptionStyleModel",
      "_view_count": null,
      "_view_module": "@jupyter-widgets/base",
      "_view_module_version": "1.2.0",
      "_view_name": "StyleView",
      "description_width": ""
     }
    },
    "3ff426959e364fa9a989572bbf80153b": {
     "model_module": "@jupyter-widgets/controls",
     "model_module_version": "1.5.0",
     "model_name": "HTMLModel",
     "state": {
      "_dom_classes": [],
      "_model_module": "@jupyter-widgets/controls",
      "_model_module_version": "1.5.0",
      "_model_name": "HTMLModel",
      "_view_count": null,
      "_view_module": "@jupyter-widgets/controls",
      "_view_module_version": "1.5.0",
      "_view_name": "HTMLView",
      "description": "",
      "description_tooltip": null,
      "layout": "IPY_MODEL_1542ac50069c41fcbac93bfcfcb50597",
      "placeholder": "​",
      "style": "IPY_MODEL_3d9e98a54d5a48a685d57b740ad27064",
      "value": "\n<b>Pro Tip:</b> If you don't already have one, you can create a dedicated\n'notebooks' token with 'write' access, that you can then easily reuse for all\nnotebooks. </center>"
     }
    },
    "403bff9d26c34b829832882d4173ca3a": {
     "model_module": "@jupyter-widgets/controls",
     "model_module_version": "1.5.0",
     "model_name": "DescriptionStyleModel",
     "state": {
      "_model_module": "@jupyter-widgets/controls",
      "_model_module_version": "1.5.0",
      "_model_name": "DescriptionStyleModel",
      "_view_count": null,
      "_view_module": "@jupyter-widgets/base",
      "_view_module_version": "1.2.0",
      "_view_name": "StyleView",
      "description_width": ""
     }
    },
    "415ac903d60140baa3ce8db618769e8d": {
     "model_module": "@jupyter-widgets/controls",
     "model_module_version": "1.5.0",
     "model_name": "HBoxModel",
     "state": {
      "_dom_classes": [],
      "_model_module": "@jupyter-widgets/controls",
      "_model_module_version": "1.5.0",
      "_model_name": "HBoxModel",
      "_view_count": null,
      "_view_module": "@jupyter-widgets/controls",
      "_view_module_version": "1.5.0",
      "_view_name": "HBoxView",
      "box_style": "",
      "children": [
       "IPY_MODEL_eb1ae4baf74e400384a27b3e78e5a017",
       "IPY_MODEL_4c7923b6162441d295a762c0ec01da71",
       "IPY_MODEL_148052d9b96c4f289d1beb6e4298da3b"
      ],
      "layout": "IPY_MODEL_1b8f3516cb4448d78eddbe1bd338fd32"
     }
    },
    "44cd3b33a29c495eb5dcdfb7a7e565e4": {
     "model_module": "@jupyter-widgets/base",
     "model_module_version": "1.2.0",
     "model_name": "LayoutModel",
     "state": {
      "_model_module": "@jupyter-widgets/base",
      "_model_module_version": "1.2.0",
      "_model_name": "LayoutModel",
      "_view_count": null,
      "_view_module": "@jupyter-widgets/base",
      "_view_module_version": "1.2.0",
      "_view_name": "LayoutView",
      "align_content": null,
      "align_items": null,
      "align_self": null,
      "border": null,
      "bottom": null,
      "display": null,
      "flex": null,
      "flex_flow": null,
      "grid_area": null,
      "grid_auto_columns": null,
      "grid_auto_flow": null,
      "grid_auto_rows": null,
      "grid_column": null,
      "grid_gap": null,
      "grid_row": null,
      "grid_template_areas": null,
      "grid_template_columns": null,
      "grid_template_rows": null,
      "height": null,
      "justify_content": null,
      "justify_items": null,
      "left": null,
      "margin": null,
      "max_height": null,
      "max_width": null,
      "min_height": null,
      "min_width": null,
      "object_fit": null,
      "object_position": null,
      "order": null,
      "overflow": null,
      "overflow_x": null,
      "overflow_y": null,
      "padding": null,
      "right": null,
      "top": null,
      "visibility": null,
      "width": null
     }
    },
    "49209d2485044024953c31a4032cda4a": {
     "model_module": "@jupyter-widgets/controls",
     "model_module_version": "1.5.0",
     "model_name": "HTMLModel",
     "state": {
      "_dom_classes": [],
      "_model_module": "@jupyter-widgets/controls",
      "_model_module_version": "1.5.0",
      "_model_name": "HTMLModel",
      "_view_count": null,
      "_view_module": "@jupyter-widgets/controls",
      "_view_module_version": "1.5.0",
      "_view_name": "HTMLView",
      "description": "",
      "description_tooltip": null,
      "layout": "IPY_MODEL_9bc07b9fd21448d3a5c2b881fa2ad23c",
      "placeholder": "​",
      "style": "IPY_MODEL_a7e2b85a3bcc43cdaeac40bc4ce853f1",
      "value": "<center> <img\nsrc=https://huggingface.co/front/assets/huggingface_logo-noborder.svg\nalt='Hugging Face'> <br> Copy a token from <a\nhref=\"https://huggingface.co/settings/tokens\" target=\"_blank\">your Hugging Face\ntokens page</a> and paste it below. <br> Immediately click login after copying\nyour token or it might be stored in plain text in this notebook file. </center>"
     }
    },
    "4c7923b6162441d295a762c0ec01da71": {
     "model_module": "@jupyter-widgets/controls",
     "model_module_version": "1.5.0",
     "model_name": "FloatProgressModel",
     "state": {
      "_dom_classes": [],
      "_model_module": "@jupyter-widgets/controls",
      "_model_module_version": "1.5.0",
      "_model_name": "FloatProgressModel",
      "_view_count": null,
      "_view_module": "@jupyter-widgets/controls",
      "_view_module_version": "1.5.0",
      "_view_name": "ProgressView",
      "bar_style": "success",
      "description": "",
      "description_tooltip": null,
      "layout": "IPY_MODEL_71852f05e5954faa95a5d4734845e242",
      "max": 1000,
      "min": 0,
      "orientation": "horizontal",
      "style": "IPY_MODEL_4e1dcba66098423a803622fe2e8ba17b",
      "value": 1000
     }
    },
    "4e1dcba66098423a803622fe2e8ba17b": {
     "model_module": "@jupyter-widgets/controls",
     "model_module_version": "1.5.0",
     "model_name": "ProgressStyleModel",
     "state": {
      "_model_module": "@jupyter-widgets/controls",
      "_model_module_version": "1.5.0",
      "_model_name": "ProgressStyleModel",
      "_view_count": null,
      "_view_module": "@jupyter-widgets/base",
      "_view_module_version": "1.2.0",
      "_view_name": "StyleView",
      "bar_color": null,
      "description_width": ""
     }
    },
    "4e72fe232c4a40d6b0199205f208afd4": {
     "model_module": "@jupyter-widgets/base",
     "model_module_version": "1.2.0",
     "model_name": "LayoutModel",
     "state": {
      "_model_module": "@jupyter-widgets/base",
      "_model_module_version": "1.2.0",
      "_model_name": "LayoutModel",
      "_view_count": null,
      "_view_module": "@jupyter-widgets/base",
      "_view_module_version": "1.2.0",
      "_view_name": "LayoutView",
      "align_content": null,
      "align_items": null,
      "align_self": null,
      "border": null,
      "bottom": null,
      "display": null,
      "flex": null,
      "flex_flow": null,
      "grid_area": null,
      "grid_auto_columns": null,
      "grid_auto_flow": null,
      "grid_auto_rows": null,
      "grid_column": null,
      "grid_gap": null,
      "grid_row": null,
      "grid_template_areas": null,
      "grid_template_columns": null,
      "grid_template_rows": null,
      "height": null,
      "justify_content": null,
      "justify_items": null,
      "left": null,
      "margin": null,
      "max_height": null,
      "max_width": null,
      "min_height": null,
      "min_width": null,
      "object_fit": null,
      "object_position": null,
      "order": null,
      "overflow": null,
      "overflow_x": null,
      "overflow_y": null,
      "padding": null,
      "right": null,
      "top": null,
      "visibility": null,
      "width": null
     }
    },
    "501b39d881b54cca85c49d5f7825b270": {
     "model_module": "@jupyter-widgets/controls",
     "model_module_version": "1.5.0",
     "model_name": "HTMLModel",
     "state": {
      "_dom_classes": [],
      "_model_module": "@jupyter-widgets/controls",
      "_model_module_version": "1.5.0",
      "_model_name": "HTMLModel",
      "_view_count": null,
      "_view_module": "@jupyter-widgets/controls",
      "_view_module_version": "1.5.0",
      "_view_name": "HTMLView",
      "description": "",
      "description_tooltip": null,
      "layout": "IPY_MODEL_81d3ccafa7164633a8bdb12800db9aef",
      "placeholder": "​",
      "style": "IPY_MODEL_5f6ac7d9c17b42f4be48c613c8962842",
      "value": " 1000/1000 [00:00&lt;00:00, 3081.82 examples/s]"
     }
    },
    "54a2ea05880147bf9a61f4cb6bb771cc": {
     "model_module": "@jupyter-widgets/controls",
     "model_module_version": "1.5.0",
     "model_name": "HTMLModel",
     "state": {
      "_dom_classes": [],
      "_model_module": "@jupyter-widgets/controls",
      "_model_module_version": "1.5.0",
      "_model_name": "HTMLModel",
      "_view_count": null,
      "_view_module": "@jupyter-widgets/controls",
      "_view_module_version": "1.5.0",
      "_view_name": "HTMLView",
      "description": "",
      "description_tooltip": null,
      "layout": "IPY_MODEL_d4a68fd7e9f342708380b56990679dc8",
      "placeholder": "​",
      "style": "IPY_MODEL_403bff9d26c34b829832882d4173ca3a",
      "value": "Map: 100%"
     }
    },
    "54d2f9b88b734737bb3e262a0724bab8": {
     "model_module": "@jupyter-widgets/controls",
     "model_module_version": "1.5.0",
     "model_name": "FloatProgressModel",
     "state": {
      "_dom_classes": [],
      "_model_module": "@jupyter-widgets/controls",
      "_model_module_version": "1.5.0",
      "_model_name": "FloatProgressModel",
      "_view_count": null,
      "_view_module": "@jupyter-widgets/controls",
      "_view_module_version": "1.5.0",
      "_view_name": "ProgressView",
      "bar_style": "success",
      "description": "",
      "description_tooltip": null,
      "layout": "IPY_MODEL_ad29217b6edc48399a25bb15c4bfbdbc",
      "max": 19000,
      "min": 0,
      "orientation": "horizontal",
      "style": "IPY_MODEL_e455d9457eca48f78ba2dc4362a87a61",
      "value": 19000
     }
    },
    "587322d1fcd64c8b8a1902135fd19bd2": {
     "model_module": "@jupyter-widgets/controls",
     "model_module_version": "1.5.0",
     "model_name": "DescriptionStyleModel",
     "state": {
      "_model_module": "@jupyter-widgets/controls",
      "_model_module_version": "1.5.0",
      "_model_name": "DescriptionStyleModel",
      "_view_count": null,
      "_view_module": "@jupyter-widgets/base",
      "_view_module_version": "1.2.0",
      "_view_name": "StyleView",
      "description_width": ""
     }
    },
    "5adfa18250764d79b37e1eb57e262370": {
     "model_module": "@jupyter-widgets/controls",
     "model_module_version": "1.5.0",
     "model_name": "ProgressStyleModel",
     "state": {
      "_model_module": "@jupyter-widgets/controls",
      "_model_module_version": "1.5.0",
      "_model_name": "ProgressStyleModel",
      "_view_count": null,
      "_view_module": "@jupyter-widgets/base",
      "_view_module_version": "1.2.0",
      "_view_name": "StyleView",
      "bar_color": null,
      "description_width": ""
     }
    },
    "5f6ac7d9c17b42f4be48c613c8962842": {
     "model_module": "@jupyter-widgets/controls",
     "model_module_version": "1.5.0",
     "model_name": "DescriptionStyleModel",
     "state": {
      "_model_module": "@jupyter-widgets/controls",
      "_model_module_version": "1.5.0",
      "_model_name": "DescriptionStyleModel",
      "_view_count": null,
      "_view_module": "@jupyter-widgets/base",
      "_view_module_version": "1.2.0",
      "_view_name": "StyleView",
      "description_width": ""
     }
    },
    "644893e511b64654ab32efa7e84cfefb": {
     "model_module": "@jupyter-widgets/base",
     "model_module_version": "1.2.0",
     "model_name": "LayoutModel",
     "state": {
      "_model_module": "@jupyter-widgets/base",
      "_model_module_version": "1.2.0",
      "_model_name": "LayoutModel",
      "_view_count": null,
      "_view_module": "@jupyter-widgets/base",
      "_view_module_version": "1.2.0",
      "_view_name": "LayoutView",
      "align_content": null,
      "align_items": null,
      "align_self": null,
      "border": null,
      "bottom": null,
      "display": null,
      "flex": null,
      "flex_flow": null,
      "grid_area": null,
      "grid_auto_columns": null,
      "grid_auto_flow": null,
      "grid_auto_rows": null,
      "grid_column": null,
      "grid_gap": null,
      "grid_row": null,
      "grid_template_areas": null,
      "grid_template_columns": null,
      "grid_template_rows": null,
      "height": null,
      "justify_content": null,
      "justify_items": null,
      "left": null,
      "margin": null,
      "max_height": null,
      "max_width": null,
      "min_height": null,
      "min_width": null,
      "object_fit": null,
      "object_position": null,
      "order": null,
      "overflow": null,
      "overflow_x": null,
      "overflow_y": null,
      "padding": null,
      "right": null,
      "top": null,
      "visibility": null,
      "width": null
     }
    },
    "68ca71a2eb5b4307a6261f5bd0901f50": {
     "model_module": "@jupyter-widgets/controls",
     "model_module_version": "1.5.0",
     "model_name": "HBoxModel",
     "state": {
      "_dom_classes": [],
      "_model_module": "@jupyter-widgets/controls",
      "_model_module_version": "1.5.0",
      "_model_name": "HBoxModel",
      "_view_count": null,
      "_view_module": "@jupyter-widgets/controls",
      "_view_module_version": "1.5.0",
      "_view_name": "HBoxView",
      "box_style": "",
      "children": [
       "IPY_MODEL_8266b338fe474a03818df268c9ad1c73",
       "IPY_MODEL_54d2f9b88b734737bb3e262a0724bab8",
       "IPY_MODEL_6daf0f68d5ab45e49833a154072df068"
      ],
      "layout": "IPY_MODEL_7f5cddb7e53a41619c95cdc5a38f6259"
     }
    },
    "6daf0f68d5ab45e49833a154072df068": {
     "model_module": "@jupyter-widgets/controls",
     "model_module_version": "1.5.0",
     "model_name": "HTMLModel",
     "state": {
      "_dom_classes": [],
      "_model_module": "@jupyter-widgets/controls",
      "_model_module_version": "1.5.0",
      "_model_name": "HTMLModel",
      "_view_count": null,
      "_view_module": "@jupyter-widgets/controls",
      "_view_module_version": "1.5.0",
      "_view_name": "HTMLView",
      "description": "",
      "description_tooltip": null,
      "layout": "IPY_MODEL_4e72fe232c4a40d6b0199205f208afd4",
      "placeholder": "​",
      "style": "IPY_MODEL_9ae67119eda141328c2bdb3d441817f3",
      "value": " 19000/19000 [00:04&lt;00:00, 8162.44 examples/s]"
     }
    },
    "71852f05e5954faa95a5d4734845e242": {
     "model_module": "@jupyter-widgets/base",
     "model_module_version": "1.2.0",
     "model_name": "LayoutModel",
     "state": {
      "_model_module": "@jupyter-widgets/base",
      "_model_module_version": "1.2.0",
      "_model_name": "LayoutModel",
      "_view_count": null,
      "_view_module": "@jupyter-widgets/base",
      "_view_module_version": "1.2.0",
      "_view_name": "LayoutView",
      "align_content": null,
      "align_items": null,
      "align_self": null,
      "border": null,
      "bottom": null,
      "display": null,
      "flex": null,
      "flex_flow": null,
      "grid_area": null,
      "grid_auto_columns": null,
      "grid_auto_flow": null,
      "grid_auto_rows": null,
      "grid_column": null,
      "grid_gap": null,
      "grid_row": null,
      "grid_template_areas": null,
      "grid_template_columns": null,
      "grid_template_rows": null,
      "height": null,
      "justify_content": null,
      "justify_items": null,
      "left": null,
      "margin": null,
      "max_height": null,
      "max_width": null,
      "min_height": null,
      "min_width": null,
      "object_fit": null,
      "object_position": null,
      "order": null,
      "overflow": null,
      "overflow_x": null,
      "overflow_y": null,
      "padding": null,
      "right": null,
      "top": null,
      "visibility": null,
      "width": null
     }
    },
    "7ad63a418bc548a38cd73442b3bc2d93": {
     "model_module": "@jupyter-widgets/controls",
     "model_module_version": "1.5.0",
     "model_name": "DescriptionStyleModel",
     "state": {
      "_model_module": "@jupyter-widgets/controls",
      "_model_module_version": "1.5.0",
      "_model_name": "DescriptionStyleModel",
      "_view_count": null,
      "_view_module": "@jupyter-widgets/base",
      "_view_module_version": "1.2.0",
      "_view_name": "StyleView",
      "description_width": ""
     }
    },
    "7f5cddb7e53a41619c95cdc5a38f6259": {
     "model_module": "@jupyter-widgets/base",
     "model_module_version": "1.2.0",
     "model_name": "LayoutModel",
     "state": {
      "_model_module": "@jupyter-widgets/base",
      "_model_module_version": "1.2.0",
      "_model_name": "LayoutModel",
      "_view_count": null,
      "_view_module": "@jupyter-widgets/base",
      "_view_module_version": "1.2.0",
      "_view_name": "LayoutView",
      "align_content": null,
      "align_items": null,
      "align_self": null,
      "border": null,
      "bottom": null,
      "display": null,
      "flex": null,
      "flex_flow": null,
      "grid_area": null,
      "grid_auto_columns": null,
      "grid_auto_flow": null,
      "grid_auto_rows": null,
      "grid_column": null,
      "grid_gap": null,
      "grid_row": null,
      "grid_template_areas": null,
      "grid_template_columns": null,
      "grid_template_rows": null,
      "height": null,
      "justify_content": null,
      "justify_items": null,
      "left": null,
      "margin": null,
      "max_height": null,
      "max_width": null,
      "min_height": null,
      "min_width": null,
      "object_fit": null,
      "object_position": null,
      "order": null,
      "overflow": null,
      "overflow_x": null,
      "overflow_y": null,
      "padding": null,
      "right": null,
      "top": null,
      "visibility": null,
      "width": null
     }
    },
    "81d3ccafa7164633a8bdb12800db9aef": {
     "model_module": "@jupyter-widgets/base",
     "model_module_version": "1.2.0",
     "model_name": "LayoutModel",
     "state": {
      "_model_module": "@jupyter-widgets/base",
      "_model_module_version": "1.2.0",
      "_model_name": "LayoutModel",
      "_view_count": null,
      "_view_module": "@jupyter-widgets/base",
      "_view_module_version": "1.2.0",
      "_view_name": "LayoutView",
      "align_content": null,
      "align_items": null,
      "align_self": null,
      "border": null,
      "bottom": null,
      "display": null,
      "flex": null,
      "flex_flow": null,
      "grid_area": null,
      "grid_auto_columns": null,
      "grid_auto_flow": null,
      "grid_auto_rows": null,
      "grid_column": null,
      "grid_gap": null,
      "grid_row": null,
      "grid_template_areas": null,
      "grid_template_columns": null,
      "grid_template_rows": null,
      "height": null,
      "justify_content": null,
      "justify_items": null,
      "left": null,
      "margin": null,
      "max_height": null,
      "max_width": null,
      "min_height": null,
      "min_width": null,
      "object_fit": null,
      "object_position": null,
      "order": null,
      "overflow": null,
      "overflow_x": null,
      "overflow_y": null,
      "padding": null,
      "right": null,
      "top": null,
      "visibility": null,
      "width": null
     }
    },
    "8266b338fe474a03818df268c9ad1c73": {
     "model_module": "@jupyter-widgets/controls",
     "model_module_version": "1.5.0",
     "model_name": "HTMLModel",
     "state": {
      "_dom_classes": [],
      "_model_module": "@jupyter-widgets/controls",
      "_model_module_version": "1.5.0",
      "_model_name": "HTMLModel",
      "_view_count": null,
      "_view_module": "@jupyter-widgets/controls",
      "_view_module_version": "1.5.0",
      "_view_name": "HTMLView",
      "description": "",
      "description_tooltip": null,
      "layout": "IPY_MODEL_c357a27616db4ca38009b072deca2dfe",
      "placeholder": "​",
      "style": "IPY_MODEL_a9f2253c3d1540fc9330f01fd49f76b2",
      "value": "Map: 100%"
     }
    },
    "83e3be9c9dec4c62a67bd85240fc840e": {
     "model_module": "@jupyter-widgets/controls",
     "model_module_version": "1.5.0",
     "model_name": "HBoxModel",
     "state": {
      "_dom_classes": [],
      "_model_module": "@jupyter-widgets/controls",
      "_model_module_version": "1.5.0",
      "_model_name": "HBoxModel",
      "_view_count": null,
      "_view_module": "@jupyter-widgets/controls",
      "_view_module_version": "1.5.0",
      "_view_name": "HBoxView",
      "box_style": "",
      "children": [
       "IPY_MODEL_1d5864df24094e7ebbc17660beeea09f",
       "IPY_MODEL_39d357847ed04a429762ca04aa7c1446",
       "IPY_MODEL_501b39d881b54cca85c49d5f7825b270"
      ],
      "layout": "IPY_MODEL_fc587cc07cf14f3babf54ae479b09a03"
     }
    },
    "8a4bcd5343784c33b16f8ca19a2c6b06": {
     "model_module": "@jupyter-widgets/controls",
     "model_module_version": "1.5.0",
     "model_name": "PasswordModel",
     "state": {
      "_dom_classes": [],
      "_model_module": "@jupyter-widgets/controls",
      "_model_module_version": "1.5.0",
      "_model_name": "PasswordModel",
      "_view_count": null,
      "_view_module": "@jupyter-widgets/controls",
      "_view_module_version": "1.5.0",
      "_view_name": "PasswordView",
      "continuous_update": true,
      "description": "Token:",
      "description_tooltip": null,
      "disabled": false,
      "layout": "IPY_MODEL_644893e511b64654ab32efa7e84cfefb",
      "placeholder": "​",
      "style": "IPY_MODEL_8fb90abab11c4669861dbc0a260880c8",
      "value": ""
     }
    },
    "8d9133b4304f4412a3c651a196fc34fd": {
     "model_module": "@jupyter-widgets/controls",
     "model_module_version": "1.5.0",
     "model_name": "CheckboxModel",
     "state": {
      "_dom_classes": [],
      "_model_module": "@jupyter-widgets/controls",
      "_model_module_version": "1.5.0",
      "_model_name": "CheckboxModel",
      "_view_count": null,
      "_view_module": "@jupyter-widgets/controls",
      "_view_module_version": "1.5.0",
      "_view_name": "CheckboxView",
      "description": "Add token as git credential?",
      "description_tooltip": null,
      "disabled": false,
      "indent": true,
      "layout": "IPY_MODEL_b9d6d88b47b14ef9b1796641d42a077c",
      "style": "IPY_MODEL_d9532817d7e24c3886ed56e17e87596a",
      "value": true
     }
    },
    "8fb90abab11c4669861dbc0a260880c8": {
     "model_module": "@jupyter-widgets/controls",
     "model_module_version": "1.5.0",
     "model_name": "DescriptionStyleModel",
     "state": {
      "_model_module": "@jupyter-widgets/controls",
      "_model_module_version": "1.5.0",
      "_model_name": "DescriptionStyleModel",
      "_view_count": null,
      "_view_module": "@jupyter-widgets/base",
      "_view_module_version": "1.2.0",
      "_view_name": "StyleView",
      "description_width": ""
     }
    },
    "9501295c5ed044159cf1d8a4996f12e5": {
     "model_module": "@jupyter-widgets/controls",
     "model_module_version": "1.5.0",
     "model_name": "ProgressStyleModel",
     "state": {
      "_model_module": "@jupyter-widgets/controls",
      "_model_module_version": "1.5.0",
      "_model_name": "ProgressStyleModel",
      "_view_count": null,
      "_view_module": "@jupyter-widgets/base",
      "_view_module_version": "1.2.0",
      "_view_name": "StyleView",
      "bar_color": null,
      "description_width": ""
     }
    },
    "9ae67119eda141328c2bdb3d441817f3": {
     "model_module": "@jupyter-widgets/controls",
     "model_module_version": "1.5.0",
     "model_name": "DescriptionStyleModel",
     "state": {
      "_model_module": "@jupyter-widgets/controls",
      "_model_module_version": "1.5.0",
      "_model_name": "DescriptionStyleModel",
      "_view_count": null,
      "_view_module": "@jupyter-widgets/base",
      "_view_module_version": "1.2.0",
      "_view_name": "StyleView",
      "description_width": ""
     }
    },
    "9bc07b9fd21448d3a5c2b881fa2ad23c": {
     "model_module": "@jupyter-widgets/base",
     "model_module_version": "1.2.0",
     "model_name": "LayoutModel",
     "state": {
      "_model_module": "@jupyter-widgets/base",
      "_model_module_version": "1.2.0",
      "_model_name": "LayoutModel",
      "_view_count": null,
      "_view_module": "@jupyter-widgets/base",
      "_view_module_version": "1.2.0",
      "_view_name": "LayoutView",
      "align_content": null,
      "align_items": null,
      "align_self": null,
      "border": null,
      "bottom": null,
      "display": null,
      "flex": null,
      "flex_flow": null,
      "grid_area": null,
      "grid_auto_columns": null,
      "grid_auto_flow": null,
      "grid_auto_rows": null,
      "grid_column": null,
      "grid_gap": null,
      "grid_row": null,
      "grid_template_areas": null,
      "grid_template_columns": null,
      "grid_template_rows": null,
      "height": null,
      "justify_content": null,
      "justify_items": null,
      "left": null,
      "margin": null,
      "max_height": null,
      "max_width": null,
      "min_height": null,
      "min_width": null,
      "object_fit": null,
      "object_position": null,
      "order": null,
      "overflow": null,
      "overflow_x": null,
      "overflow_y": null,
      "padding": null,
      "right": null,
      "top": null,
      "visibility": null,
      "width": null
     }
    },
    "a7e2b85a3bcc43cdaeac40bc4ce853f1": {
     "model_module": "@jupyter-widgets/controls",
     "model_module_version": "1.5.0",
     "model_name": "DescriptionStyleModel",
     "state": {
      "_model_module": "@jupyter-widgets/controls",
      "_model_module_version": "1.5.0",
      "_model_name": "DescriptionStyleModel",
      "_view_count": null,
      "_view_module": "@jupyter-widgets/base",
      "_view_module_version": "1.2.0",
      "_view_name": "StyleView",
      "description_width": ""
     }
    },
    "a9f2253c3d1540fc9330f01fd49f76b2": {
     "model_module": "@jupyter-widgets/controls",
     "model_module_version": "1.5.0",
     "model_name": "DescriptionStyleModel",
     "state": {
      "_model_module": "@jupyter-widgets/controls",
      "_model_module_version": "1.5.0",
      "_model_name": "DescriptionStyleModel",
      "_view_count": null,
      "_view_module": "@jupyter-widgets/base",
      "_view_module_version": "1.2.0",
      "_view_name": "StyleView",
      "description_width": ""
     }
    },
    "ad274b1ff8854f43814c2dd686fdc787": {
     "model_module": "@jupyter-widgets/base",
     "model_module_version": "1.2.0",
     "model_name": "LayoutModel",
     "state": {
      "_model_module": "@jupyter-widgets/base",
      "_model_module_version": "1.2.0",
      "_model_name": "LayoutModel",
      "_view_count": null,
      "_view_module": "@jupyter-widgets/base",
      "_view_module_version": "1.2.0",
      "_view_name": "LayoutView",
      "align_content": null,
      "align_items": null,
      "align_self": null,
      "border": null,
      "bottom": null,
      "display": null,
      "flex": null,
      "flex_flow": null,
      "grid_area": null,
      "grid_auto_columns": null,
      "grid_auto_flow": null,
      "grid_auto_rows": null,
      "grid_column": null,
      "grid_gap": null,
      "grid_row": null,
      "grid_template_areas": null,
      "grid_template_columns": null,
      "grid_template_rows": null,
      "height": null,
      "justify_content": null,
      "justify_items": null,
      "left": null,
      "margin": null,
      "max_height": null,
      "max_width": null,
      "min_height": null,
      "min_width": null,
      "object_fit": null,
      "object_position": null,
      "order": null,
      "overflow": null,
      "overflow_x": null,
      "overflow_y": null,
      "padding": null,
      "right": null,
      "top": null,
      "visibility": null,
      "width": null
     }
    },
    "ad29217b6edc48399a25bb15c4bfbdbc": {
     "model_module": "@jupyter-widgets/base",
     "model_module_version": "1.2.0",
     "model_name": "LayoutModel",
     "state": {
      "_model_module": "@jupyter-widgets/base",
      "_model_module_version": "1.2.0",
      "_model_name": "LayoutModel",
      "_view_count": null,
      "_view_module": "@jupyter-widgets/base",
      "_view_module_version": "1.2.0",
      "_view_name": "LayoutView",
      "align_content": null,
      "align_items": null,
      "align_self": null,
      "border": null,
      "bottom": null,
      "display": null,
      "flex": null,
      "flex_flow": null,
      "grid_area": null,
      "grid_auto_columns": null,
      "grid_auto_flow": null,
      "grid_auto_rows": null,
      "grid_column": null,
      "grid_gap": null,
      "grid_row": null,
      "grid_template_areas": null,
      "grid_template_columns": null,
      "grid_template_rows": null,
      "height": null,
      "justify_content": null,
      "justify_items": null,
      "left": null,
      "margin": null,
      "max_height": null,
      "max_width": null,
      "min_height": null,
      "min_width": null,
      "object_fit": null,
      "object_position": null,
      "order": null,
      "overflow": null,
      "overflow_x": null,
      "overflow_y": null,
      "padding": null,
      "right": null,
      "top": null,
      "visibility": null,
      "width": null
     }
    },
    "af9e6ba830b54e069d74bd96bf74258e": {
     "model_module": "@jupyter-widgets/base",
     "model_module_version": "1.2.0",
     "model_name": "LayoutModel",
     "state": {
      "_model_module": "@jupyter-widgets/base",
      "_model_module_version": "1.2.0",
      "_model_name": "LayoutModel",
      "_view_count": null,
      "_view_module": "@jupyter-widgets/base",
      "_view_module_version": "1.2.0",
      "_view_name": "LayoutView",
      "align_content": null,
      "align_items": null,
      "align_self": null,
      "border": null,
      "bottom": null,
      "display": null,
      "flex": null,
      "flex_flow": null,
      "grid_area": null,
      "grid_auto_columns": null,
      "grid_auto_flow": null,
      "grid_auto_rows": null,
      "grid_column": null,
      "grid_gap": null,
      "grid_row": null,
      "grid_template_areas": null,
      "grid_template_columns": null,
      "grid_template_rows": null,
      "height": null,
      "justify_content": null,
      "justify_items": null,
      "left": null,
      "margin": null,
      "max_height": null,
      "max_width": null,
      "min_height": null,
      "min_width": null,
      "object_fit": null,
      "object_position": null,
      "order": null,
      "overflow": null,
      "overflow_x": null,
      "overflow_y": null,
      "padding": null,
      "right": null,
      "top": null,
      "visibility": null,
      "width": null
     }
    },
    "b9d6d88b47b14ef9b1796641d42a077c": {
     "model_module": "@jupyter-widgets/base",
     "model_module_version": "1.2.0",
     "model_name": "LayoutModel",
     "state": {
      "_model_module": "@jupyter-widgets/base",
      "_model_module_version": "1.2.0",
      "_model_name": "LayoutModel",
      "_view_count": null,
      "_view_module": "@jupyter-widgets/base",
      "_view_module_version": "1.2.0",
      "_view_name": "LayoutView",
      "align_content": null,
      "align_items": null,
      "align_self": null,
      "border": null,
      "bottom": null,
      "display": null,
      "flex": null,
      "flex_flow": null,
      "grid_area": null,
      "grid_auto_columns": null,
      "grid_auto_flow": null,
      "grid_auto_rows": null,
      "grid_column": null,
      "grid_gap": null,
      "grid_row": null,
      "grid_template_areas": null,
      "grid_template_columns": null,
      "grid_template_rows": null,
      "height": null,
      "justify_content": null,
      "justify_items": null,
      "left": null,
      "margin": null,
      "max_height": null,
      "max_width": null,
      "min_height": null,
      "min_width": null,
      "object_fit": null,
      "object_position": null,
      "order": null,
      "overflow": null,
      "overflow_x": null,
      "overflow_y": null,
      "padding": null,
      "right": null,
      "top": null,
      "visibility": null,
      "width": null
     }
    },
    "b9e919e5e9b948c992ac4d9782014eb4": {
     "model_module": "@jupyter-widgets/controls",
     "model_module_version": "1.5.0",
     "model_name": "ButtonModel",
     "state": {
      "_dom_classes": [],
      "_model_module": "@jupyter-widgets/controls",
      "_model_module_version": "1.5.0",
      "_model_name": "ButtonModel",
      "_view_count": null,
      "_view_module": "@jupyter-widgets/controls",
      "_view_module_version": "1.5.0",
      "_view_name": "ButtonView",
      "button_style": "",
      "description": "Login",
      "disabled": false,
      "icon": "",
      "layout": "IPY_MODEL_ad274b1ff8854f43814c2dd686fdc787",
      "style": "IPY_MODEL_d1285669a3694001b294d41f8227c217",
      "tooltip": ""
     }
    },
    "bcb20832f18c4223a8ec399250c5838c": {
     "model_module": "@jupyter-widgets/base",
     "model_module_version": "1.2.0",
     "model_name": "LayoutModel",
     "state": {
      "_model_module": "@jupyter-widgets/base",
      "_model_module_version": "1.2.0",
      "_model_name": "LayoutModel",
      "_view_count": null,
      "_view_module": "@jupyter-widgets/base",
      "_view_module_version": "1.2.0",
      "_view_name": "LayoutView",
      "align_content": null,
      "align_items": "center",
      "align_self": null,
      "border": null,
      "bottom": null,
      "display": "flex",
      "flex": null,
      "flex_flow": "column",
      "grid_area": null,
      "grid_auto_columns": null,
      "grid_auto_flow": null,
      "grid_auto_rows": null,
      "grid_column": null,
      "grid_gap": null,
      "grid_row": null,
      "grid_template_areas": null,
      "grid_template_columns": null,
      "grid_template_rows": null,
      "height": null,
      "justify_content": null,
      "justify_items": null,
      "left": null,
      "margin": null,
      "max_height": null,
      "max_width": null,
      "min_height": null,
      "min_width": null,
      "object_fit": null,
      "object_position": null,
      "order": null,
      "overflow": null,
      "overflow_x": null,
      "overflow_y": null,
      "padding": null,
      "right": null,
      "top": null,
      "visibility": null,
      "width": "50%"
     }
    },
    "c357a27616db4ca38009b072deca2dfe": {
     "model_module": "@jupyter-widgets/base",
     "model_module_version": "1.2.0",
     "model_name": "LayoutModel",
     "state": {
      "_model_module": "@jupyter-widgets/base",
      "_model_module_version": "1.2.0",
      "_model_name": "LayoutModel",
      "_view_count": null,
      "_view_module": "@jupyter-widgets/base",
      "_view_module_version": "1.2.0",
      "_view_name": "LayoutView",
      "align_content": null,
      "align_items": null,
      "align_self": null,
      "border": null,
      "bottom": null,
      "display": null,
      "flex": null,
      "flex_flow": null,
      "grid_area": null,
      "grid_auto_columns": null,
      "grid_auto_flow": null,
      "grid_auto_rows": null,
      "grid_column": null,
      "grid_gap": null,
      "grid_row": null,
      "grid_template_areas": null,
      "grid_template_columns": null,
      "grid_template_rows": null,
      "height": null,
      "justify_content": null,
      "justify_items": null,
      "left": null,
      "margin": null,
      "max_height": null,
      "max_width": null,
      "min_height": null,
      "min_width": null,
      "object_fit": null,
      "object_position": null,
      "order": null,
      "overflow": null,
      "overflow_x": null,
      "overflow_y": null,
      "padding": null,
      "right": null,
      "top": null,
      "visibility": null,
      "width": null
     }
    },
    "c86b5d8e9ea948bd9acea8cdd5923189": {
     "model_module": "@jupyter-widgets/controls",
     "model_module_version": "1.5.0",
     "model_name": "VBoxModel",
     "state": {
      "_dom_classes": [],
      "_model_module": "@jupyter-widgets/controls",
      "_model_module_version": "1.5.0",
      "_model_name": "VBoxModel",
      "_view_count": null,
      "_view_module": "@jupyter-widgets/controls",
      "_view_module_version": "1.5.0",
      "_view_name": "VBoxView",
      "box_style": "",
      "children": [
       "IPY_MODEL_49209d2485044024953c31a4032cda4a",
       "IPY_MODEL_8a4bcd5343784c33b16f8ca19a2c6b06",
       "IPY_MODEL_8d9133b4304f4412a3c651a196fc34fd",
       "IPY_MODEL_b9e919e5e9b948c992ac4d9782014eb4",
       "IPY_MODEL_3ff426959e364fa9a989572bbf80153b"
      ],
      "layout": "IPY_MODEL_bcb20832f18c4223a8ec399250c5838c"
     }
    },
    "c8776f0e40ad40d2a7a46dc0831982a1": {
     "model_module": "@jupyter-widgets/base",
     "model_module_version": "1.2.0",
     "model_name": "LayoutModel",
     "state": {
      "_model_module": "@jupyter-widgets/base",
      "_model_module_version": "1.2.0",
      "_model_name": "LayoutModel",
      "_view_count": null,
      "_view_module": "@jupyter-widgets/base",
      "_view_module_version": "1.2.0",
      "_view_name": "LayoutView",
      "align_content": null,
      "align_items": null,
      "align_self": null,
      "border": null,
      "bottom": null,
      "display": null,
      "flex": null,
      "flex_flow": null,
      "grid_area": null,
      "grid_auto_columns": null,
      "grid_auto_flow": null,
      "grid_auto_rows": null,
      "grid_column": null,
      "grid_gap": null,
      "grid_row": null,
      "grid_template_areas": null,
      "grid_template_columns": null,
      "grid_template_rows": null,
      "height": null,
      "justify_content": null,
      "justify_items": null,
      "left": null,
      "margin": null,
      "max_height": null,
      "max_width": null,
      "min_height": null,
      "min_width": null,
      "object_fit": null,
      "object_position": null,
      "order": null,
      "overflow": null,
      "overflow_x": null,
      "overflow_y": null,
      "padding": null,
      "right": null,
      "top": null,
      "visibility": null,
      "width": null
     }
    },
    "d1285669a3694001b294d41f8227c217": {
     "model_module": "@jupyter-widgets/controls",
     "model_module_version": "1.5.0",
     "model_name": "ButtonStyleModel",
     "state": {
      "_model_module": "@jupyter-widgets/controls",
      "_model_module_version": "1.5.0",
      "_model_name": "ButtonStyleModel",
      "_view_count": null,
      "_view_module": "@jupyter-widgets/base",
      "_view_module_version": "1.2.0",
      "_view_name": "StyleView",
      "button_color": null,
      "font_weight": ""
     }
    },
    "d4857250d2654280ab702643f9940988": {
     "model_module": "@jupyter-widgets/controls",
     "model_module_version": "1.5.0",
     "model_name": "HBoxModel",
     "state": {
      "_dom_classes": [],
      "_model_module": "@jupyter-widgets/controls",
      "_model_module_version": "1.5.0",
      "_model_name": "HBoxModel",
      "_view_count": null,
      "_view_module": "@jupyter-widgets/controls",
      "_view_module_version": "1.5.0",
      "_view_name": "HBoxView",
      "box_style": "",
      "children": [
       "IPY_MODEL_54a2ea05880147bf9a61f4cb6bb771cc",
       "IPY_MODEL_edbb34bdadcb4fa29c9a373d1760dd4b",
       "IPY_MODEL_f0e7edd277764f038326d206a021a61f"
      ],
      "layout": "IPY_MODEL_fee46a75c6d0499fa92df6f00f67d617"
     }
    },
    "d4a68fd7e9f342708380b56990679dc8": {
     "model_module": "@jupyter-widgets/base",
     "model_module_version": "1.2.0",
     "model_name": "LayoutModel",
     "state": {
      "_model_module": "@jupyter-widgets/base",
      "_model_module_version": "1.2.0",
      "_model_name": "LayoutModel",
      "_view_count": null,
      "_view_module": "@jupyter-widgets/base",
      "_view_module_version": "1.2.0",
      "_view_name": "LayoutView",
      "align_content": null,
      "align_items": null,
      "align_self": null,
      "border": null,
      "bottom": null,
      "display": null,
      "flex": null,
      "flex_flow": null,
      "grid_area": null,
      "grid_auto_columns": null,
      "grid_auto_flow": null,
      "grid_auto_rows": null,
      "grid_column": null,
      "grid_gap": null,
      "grid_row": null,
      "grid_template_areas": null,
      "grid_template_columns": null,
      "grid_template_rows": null,
      "height": null,
      "justify_content": null,
      "justify_items": null,
      "left": null,
      "margin": null,
      "max_height": null,
      "max_width": null,
      "min_height": null,
      "min_width": null,
      "object_fit": null,
      "object_position": null,
      "order": null,
      "overflow": null,
      "overflow_x": null,
      "overflow_y": null,
      "padding": null,
      "right": null,
      "top": null,
      "visibility": null,
      "width": null
     }
    },
    "d6b2e91671b64655bf3aabdd299e8f6c": {
     "model_module": "@jupyter-widgets/controls",
     "model_module_version": "1.5.0",
     "model_name": "DescriptionStyleModel",
     "state": {
      "_model_module": "@jupyter-widgets/controls",
      "_model_module_version": "1.5.0",
      "_model_name": "DescriptionStyleModel",
      "_view_count": null,
      "_view_module": "@jupyter-widgets/base",
      "_view_module_version": "1.2.0",
      "_view_name": "StyleView",
      "description_width": ""
     }
    },
    "d9532817d7e24c3886ed56e17e87596a": {
     "model_module": "@jupyter-widgets/controls",
     "model_module_version": "1.5.0",
     "model_name": "DescriptionStyleModel",
     "state": {
      "_model_module": "@jupyter-widgets/controls",
      "_model_module_version": "1.5.0",
      "_model_name": "DescriptionStyleModel",
      "_view_count": null,
      "_view_module": "@jupyter-widgets/base",
      "_view_module_version": "1.2.0",
      "_view_name": "StyleView",
      "description_width": ""
     }
    },
    "e455d9457eca48f78ba2dc4362a87a61": {
     "model_module": "@jupyter-widgets/controls",
     "model_module_version": "1.5.0",
     "model_name": "ProgressStyleModel",
     "state": {
      "_model_module": "@jupyter-widgets/controls",
      "_model_module_version": "1.5.0",
      "_model_name": "ProgressStyleModel",
      "_view_count": null,
      "_view_module": "@jupyter-widgets/base",
      "_view_module_version": "1.2.0",
      "_view_name": "StyleView",
      "bar_color": null,
      "description_width": ""
     }
    },
    "eb1ae4baf74e400384a27b3e78e5a017": {
     "model_module": "@jupyter-widgets/controls",
     "model_module_version": "1.5.0",
     "model_name": "HTMLModel",
     "state": {
      "_dom_classes": [],
      "_model_module": "@jupyter-widgets/controls",
      "_model_module_version": "1.5.0",
      "_model_name": "HTMLModel",
      "_view_count": null,
      "_view_module": "@jupyter-widgets/controls",
      "_view_module_version": "1.5.0",
      "_view_name": "HTMLView",
      "description": "",
      "description_tooltip": null,
      "layout": "IPY_MODEL_0c84708ed061452694acdcf994cd7077",
      "placeholder": "​",
      "style": "IPY_MODEL_d6b2e91671b64655bf3aabdd299e8f6c",
      "value": "Map: 100%"
     }
    },
    "edbb34bdadcb4fa29c9a373d1760dd4b": {
     "model_module": "@jupyter-widgets/controls",
     "model_module_version": "1.5.0",
     "model_name": "FloatProgressModel",
     "state": {
      "_dom_classes": [],
      "_model_module": "@jupyter-widgets/controls",
      "_model_module_version": "1.5.0",
      "_model_name": "FloatProgressModel",
      "_view_count": null,
      "_view_module": "@jupyter-widgets/controls",
      "_view_module_version": "1.5.0",
      "_view_name": "ProgressView",
      "bar_style": "success",
      "description": "",
      "description_tooltip": null,
      "layout": "IPY_MODEL_c8776f0e40ad40d2a7a46dc0831982a1",
      "max": 19000,
      "min": 0,
      "orientation": "horizontal",
      "style": "IPY_MODEL_5adfa18250764d79b37e1eb57e262370",
      "value": 19000
     }
    },
    "f0e7edd277764f038326d206a021a61f": {
     "model_module": "@jupyter-widgets/controls",
     "model_module_version": "1.5.0",
     "model_name": "HTMLModel",
     "state": {
      "_dom_classes": [],
      "_model_module": "@jupyter-widgets/controls",
      "_model_module_version": "1.5.0",
      "_model_name": "HTMLModel",
      "_view_count": null,
      "_view_module": "@jupyter-widgets/controls",
      "_view_module_version": "1.5.0",
      "_view_name": "HTMLView",
      "description": "",
      "description_tooltip": null,
      "layout": "IPY_MODEL_334d7917f7f84f1b9ea74e2d814fdb5b",
      "placeholder": "​",
      "style": "IPY_MODEL_587322d1fcd64c8b8a1902135fd19bd2",
      "value": " 19000/19000 [00:06&lt;00:00, 3312.79 examples/s]"
     }
    },
    "fc587cc07cf14f3babf54ae479b09a03": {
     "model_module": "@jupyter-widgets/base",
     "model_module_version": "1.2.0",
     "model_name": "LayoutModel",
     "state": {
      "_model_module": "@jupyter-widgets/base",
      "_model_module_version": "1.2.0",
      "_model_name": "LayoutModel",
      "_view_count": null,
      "_view_module": "@jupyter-widgets/base",
      "_view_module_version": "1.2.0",
      "_view_name": "LayoutView",
      "align_content": null,
      "align_items": null,
      "align_self": null,
      "border": null,
      "bottom": null,
      "display": null,
      "flex": null,
      "flex_flow": null,
      "grid_area": null,
      "grid_auto_columns": null,
      "grid_auto_flow": null,
      "grid_auto_rows": null,
      "grid_column": null,
      "grid_gap": null,
      "grid_row": null,
      "grid_template_areas": null,
      "grid_template_columns": null,
      "grid_template_rows": null,
      "height": null,
      "justify_content": null,
      "justify_items": null,
      "left": null,
      "margin": null,
      "max_height": null,
      "max_width": null,
      "min_height": null,
      "min_width": null,
      "object_fit": null,
      "object_position": null,
      "order": null,
      "overflow": null,
      "overflow_x": null,
      "overflow_y": null,
      "padding": null,
      "right": null,
      "top": null,
      "visibility": null,
      "width": null
     }
    },
    "fd01564f48b948cd86b305ff14a66d55": {
     "model_module": "@jupyter-widgets/base",
     "model_module_version": "1.2.0",
     "model_name": "LayoutModel",
     "state": {
      "_model_module": "@jupyter-widgets/base",
      "_model_module_version": "1.2.0",
      "_model_name": "LayoutModel",
      "_view_count": null,
      "_view_module": "@jupyter-widgets/base",
      "_view_module_version": "1.2.0",
      "_view_name": "LayoutView",
      "align_content": null,
      "align_items": null,
      "align_self": null,
      "border": null,
      "bottom": null,
      "display": null,
      "flex": null,
      "flex_flow": null,
      "grid_area": null,
      "grid_auto_columns": null,
      "grid_auto_flow": null,
      "grid_auto_rows": null,
      "grid_column": null,
      "grid_gap": null,
      "grid_row": null,
      "grid_template_areas": null,
      "grid_template_columns": null,
      "grid_template_rows": null,
      "height": null,
      "justify_content": null,
      "justify_items": null,
      "left": null,
      "margin": null,
      "max_height": null,
      "max_width": null,
      "min_height": null,
      "min_width": null,
      "object_fit": null,
      "object_position": null,
      "order": null,
      "overflow": null,
      "overflow_x": null,
      "overflow_y": null,
      "padding": null,
      "right": null,
      "top": null,
      "visibility": null,
      "width": null
     }
    },
    "fee46a75c6d0499fa92df6f00f67d617": {
     "model_module": "@jupyter-widgets/base",
     "model_module_version": "1.2.0",
     "model_name": "LayoutModel",
     "state": {
      "_model_module": "@jupyter-widgets/base",
      "_model_module_version": "1.2.0",
      "_model_name": "LayoutModel",
      "_view_count": null,
      "_view_module": "@jupyter-widgets/base",
      "_view_module_version": "1.2.0",
      "_view_name": "LayoutView",
      "align_content": null,
      "align_items": null,
      "align_self": null,
      "border": null,
      "bottom": null,
      "display": null,
      "flex": null,
      "flex_flow": null,
      "grid_area": null,
      "grid_auto_columns": null,
      "grid_auto_flow": null,
      "grid_auto_rows": null,
      "grid_column": null,
      "grid_gap": null,
      "grid_row": null,
      "grid_template_areas": null,
      "grid_template_columns": null,
      "grid_template_rows": null,
      "height": null,
      "justify_content": null,
      "justify_items": null,
      "left": null,
      "margin": null,
      "max_height": null,
      "max_width": null,
      "min_height": null,
      "min_width": null,
      "object_fit": null,
      "object_position": null,
      "order": null,
      "overflow": null,
      "overflow_x": null,
      "overflow_y": null,
      "padding": null,
      "right": null,
      "top": null,
      "visibility": null,
      "width": null
     }
    }
   }
  }
 },
 "nbformat": 4,
 "nbformat_minor": 1
}

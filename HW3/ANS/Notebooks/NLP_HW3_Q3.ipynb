{
  "nbformat": 4,
  "nbformat_minor": 0,
  "metadata": {
    "colab": {
      "provenance": []
    },
    "kernelspec": {
      "name": "python3",
      "display_name": "Python 3"
    },
    "language_info": {
      "name": "python"
    }
  },
  "cells": [
    {
      "cell_type": "markdown",
      "source": [
        "# Q3"
      ],
      "metadata": {
        "id": "NgQDc4v3TfsF"
      }
    },
    {
      "cell_type": "markdown",
      "source": [
        "*   We will develop a NER system specific to the category of names of the top 1000 movie titles from IMDB.\n",
        "\n",
        "*   We will evaluate the system on a collection of text likely to contain instances of these named entities."
      ],
      "metadata": {
        "id": "r3BJFGcYT-LV"
      }
    },
    {
      "cell_type": "code",
      "source": [
        "import nltk\n",
        "nltk.download('punkt')"
      ],
      "metadata": {
        "id": "GnwTjXyH5Xls",
        "colab": {
          "base_uri": "https://localhost:8080/"
        },
        "outputId": "c3008afd-80f9-4934-e3a4-3d404a802771"
      },
      "execution_count": 1,
      "outputs": [
        {
          "output_type": "stream",
          "name": "stderr",
          "text": [
            "[nltk_data] Downloading package punkt to /root/nltk_data...\n",
            "[nltk_data]   Unzipping tokenizers/punkt.zip.\n"
          ]
        },
        {
          "output_type": "execute_result",
          "data": {
            "text/plain": [
              "True"
            ]
          },
          "metadata": {},
          "execution_count": 1
        }
      ]
    },
    {
      "cell_type": "code",
      "source": [
        "import re\n",
        "import csv\n",
        "import math\n",
        "import nltk\n",
        "nltk.download('brown')\n",
        "nltk.download('movie_reviews')\n",
        "from nltk.corpus import brown, movie_reviews\n",
        "from nltk.tokenize import word_tokenize"
      ],
      "metadata": {
        "id": "o3DlFdNPT95l",
        "colab": {
          "base_uri": "https://localhost:8080/"
        },
        "outputId": "5f5d50ab-b23b-4697-b10b-471c41b1d6e4"
      },
      "execution_count": 2,
      "outputs": [
        {
          "output_type": "stream",
          "name": "stderr",
          "text": [
            "[nltk_data] Downloading package brown to /root/nltk_data...\n",
            "[nltk_data]   Unzipping corpora/brown.zip.\n",
            "[nltk_data] Downloading package movie_reviews to /root/nltk_data...\n",
            "[nltk_data]   Unzipping corpora/movie_reviews.zip.\n"
          ]
        }
      ]
    },
    {
      "cell_type": "code",
      "source": [
        "import pandas as pd\n",
        "import numpy as np"
      ],
      "metadata": {
        "id": "IEdrMjAjP_D9"
      },
      "execution_count": 19,
      "outputs": []
    },
    {
      "cell_type": "code",
      "source": [
        "def get_top_1000_list():\n",
        "    \"\"\"\n",
        "    Function to extract movie titles from a IMDB-top-1000.csv file.\n",
        "\n",
        "    Returns:\n",
        "        list: A list of unique titles of the top 1000 movies\n",
        "    \"\"\"\n",
        "    file_name = 'data/IMDB-top-1000.csv'\n",
        "\n",
        "    df = pd.read_csv(file_name)\n",
        "\n",
        "    collected_titles = df['movie name\\r\\n']\n",
        "\n",
        "    return collected_titles.to_numpy()"
      ],
      "metadata": {
        "id": "5hHLacEwzP3q"
      },
      "execution_count": 21,
      "outputs": []
    },
    {
      "cell_type": "code",
      "source": [
        "def label_BIO(_tokens, _NE):\n",
        "    \"\"\"\n",
        "    Generates BIO (Beginning, Inside, Outside) tags for movie titles in the given tokens.\n",
        "\n",
        "    Args:\n",
        "        _tokens (list): List of tokens representing words in a sentence.\n",
        "        _NE (list): List of named entities, where each entity is represented as a list of tokens.\n",
        "\n",
        "    Returns:\n",
        "        list: List of tuples containing tokens and their corresponding BIO tags.\n",
        "\n",
        "    Comments:\n",
        "        - This function searches for movie titles in the tokens and labels them using BIO notation.\n",
        "        - A movie title is considered to be a named entity, where the first word is labeled as 'B-MOV'\n",
        "          (Beginning of a movie title) and subsequent words are labeled as 'I-MOV' (Inside a movie title).\n",
        "        - Non-movie title tokens are labeled as 'O' (Outside any named entity).\n",
        "        - The function iterates through each token in the tokens list, searching for matches in the named entity list.\n",
        "          If a match is found, the corresponding tokens are labeled accordingly in the BIO format.\n",
        "        - It returns a list of tuples, each containing a token and its corresponding BIO tag.\n",
        "    \"\"\"\n",
        "    BIO_for_samples = []\n",
        "\n",
        "    i = 0\n",
        "    while i < len(_tokens):\n",
        "        movie_found = False\n",
        "        for ne in _NE:\n",
        "            ne_tokens = word_tokenize(ne)\n",
        "            if ne_tokens[0] == tokens[i]:\n",
        "                movie = [tokens[i]]\n",
        "                for j in range(1, len(ne_tokens)):\n",
        "                    if tokens[i+j] == ne_tokens[j]:\n",
        "                        movie.append(tokens[i+j])\n",
        "                if len(movie) == len(ne_tokens) and not tokens[i+len(ne_tokens)][0].isupper():\n",
        "                    BIO_for_samples.append((movie[0], 'B-MOV'))\n",
        "                    for part in ne_tokens[1:]:\n",
        "                        BIO_for_samples.append((part, 'I-MOV'))\n",
        "                    movie_found = True\n",
        "            if movie_found:\n",
        "                break\n",
        "        if not movie_found:\n",
        "            BIO_for_samples.append((tokens[i], 'O-MOV'))\n",
        "            i+=1\n",
        "        else:\n",
        "            print('Movie Found! Title:', ' '.join(movie))\n",
        "            i += len(ne_tokens)\n",
        "\n",
        "    return BIO_for_samples"
      ],
      "metadata": {
        "id": "Mem-wyqU1z0f"
      },
      "execution_count": 75,
      "outputs": []
    },
    {
      "cell_type": "code",
      "source": [
        "# Don't change this cell\n",
        "def print_BIO_res(_BIO):\n",
        "    for i in range(len(_BIO)):\n",
        "        if _BIO[i][1] == 'B-MOV':\n",
        "            for j in range(i - 7, i + 7):\n",
        "                if _BIO[j][1] == 'O':\n",
        "                    print(_BIO[j][0], end=\" \")\n",
        "                else:\n",
        "                    print(_BIO[j], end=\" \")\n",
        "            print(\"\")"
      ],
      "metadata": {
        "id": "1UA4HbNA5Fj6"
      },
      "execution_count": 72,
      "outputs": []
    },
    {
      "cell_type": "code",
      "source": [
        "# Don't change this cell\n",
        "def get_data_from_file(_fn):\n",
        "    with open(_fn, 'r') as file:\n",
        "        data = file.read().replace('\\n', ' ')\n",
        "    return data"
      ],
      "metadata": {
        "id": "vrQqvG947sb4"
      },
      "execution_count": 23,
      "outputs": []
    },
    {
      "cell_type": "code",
      "source": [
        "titles_top_1000 = get_top_1000_list()\n",
        "\n",
        "# get text data from a text file\n",
        "data = get_data_from_file(\"data/article-about-a-genre.txt\")\n",
        "# tokenize text data\n",
        "tokens = word_tokenize(data)\n",
        "# tag with BIO using the IMDB top 1000 movie title list\n",
        "BIO = label_BIO(tokens, titles_top_1000)\n",
        "\n",
        "print_BIO_res(BIO)"
      ],
      "metadata": {
        "id": "CdzyVGJ25IBc",
        "colab": {
          "base_uri": "https://localhost:8080/"
        },
        "outputId": "cf8a4e3e-c888-429f-f743-d1c6fb41114e"
      },
      "execution_count": 76,
      "outputs": [
        {
          "output_type": "stream",
          "name": "stdout",
          "text": [
            "Movie Found! Title: The Matrix\n",
            "Movie Found! Title: Crouching Tiger , Hidden Dragon\n",
            "Movie Found! Title: Hero\n",
            "Movie Found! Title: Kung Fu Hustle\n",
            "Movie Found! Title: Ip Man\n",
            "('to', 'O-MOV') ('find', 'O-MOV') ('its', 'O-MOV') ('way', 'O-MOV') ('into', 'O-MOV') ('hits', 'O-MOV') ('like', 'O-MOV') ('The', 'B-MOV') ('Matrix', 'I-MOV') ('(', 'O-MOV') ('1999', 'O-MOV') (')', 'O-MOV') ('and', 'O-MOV') ('Kill', 'O-MOV') \n",
            "('.', 'O-MOV') ('In', 'O-MOV') ('2000', 'O-MOV') (',', 'O-MOV') ('the', 'O-MOV') ('Chinese', 'O-MOV') ('blockbuster', 'O-MOV') ('Crouching', 'B-MOV') ('Tiger', 'I-MOV') (',', 'I-MOV') ('Hidden', 'I-MOV') ('Dragon', 'I-MOV') ('showed', 'O-MOV') ('modern', 'O-MOV') \n",
            "('the', 'O-MOV') ('trend', 'O-MOV') ('.', 'O-MOV') ('Jet', 'O-MOV') ('Li', 'O-MOV') ('’', 'O-MOV') ('s', 'O-MOV') ('Hero', 'B-MOV') ('(', 'O-MOV') ('2002', 'O-MOV') (')', 'O-MOV') ('and', 'O-MOV') ('Fearless', 'O-MOV') ('(', 'O-MOV') \n",
            "('comedies', 'O-MOV') ('Shaolin', 'O-MOV') ('Soccer', 'O-MOV') ('(', 'O-MOV') ('2001', 'O-MOV') (')', 'O-MOV') ('and', 'O-MOV') ('Kung', 'B-MOV') ('Fu', 'I-MOV') ('Hustle', 'I-MOV') ('(', 'O-MOV') ('2004', 'O-MOV') (')', 'O-MOV') (',', 'O-MOV') \n",
            "(')', 'O-MOV') (',', 'O-MOV') ('and', 'O-MOV') ('Donnie', 'O-MOV') ('Yen', 'O-MOV') ('’', 'O-MOV') ('s', 'O-MOV') ('Ip', 'B-MOV') ('Man', 'I-MOV') ('(', 'O-MOV') ('2008', 'O-MOV') (')', 'O-MOV') ('.', 'O-MOV') ('Shang-Chi', 'O-MOV') \n"
          ]
        }
      ]
    }
  ]
}